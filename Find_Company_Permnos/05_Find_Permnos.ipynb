{
 "cells": [
  {
   "cell_type": "code",
   "execution_count": 10,
   "metadata": {},
   "outputs": [],
   "source": [
    "import pandas as pd\n",
    "from joblib import Parallel, delayed\n",
    "import os"
   ]
  },
  {
   "cell_type": "code",
   "execution_count": 2,
   "metadata": {},
   "outputs": [],
   "source": [
    "os.chdir(\"C:\\\\Users\\\\fjying\\\\Desktop\\\\RA_Columbia\\\\notmeaningfultransfer\")"
   ]
  },
  {
   "cell_type": "code",
   "execution_count": 7,
   "metadata": {},
   "outputs": [],
   "source": [
    "files = os.listdir(\"C:\\\\Users\\\\fjying\\\\Desktop\\\\RA_Columbia\\\\notmeaningfultransfer\")"
   ]
  },
  {
   "cell_type": "code",
   "execution_count": 4,
   "metadata": {},
   "outputs": [],
   "source": [
    "def find_permnos(file, crosswalk):\n",
    "    patents  = pd.read_csv(file)\n",
    "    columns_new = []\n",
    "    columns = patents.columns\n",
    "    \n",
    "    intersected_company_names = set(patents['assignor'].dropna().values).intersection(set(crosswalk['company'].values))\n",
    "    temp = crosswalk[crosswalk['company'].isin(intersected_company_names)]\n",
    "    company_permno_dict = dict(zip(temp['company'].values, temp['permno'].values))\n",
    "    patents['sellerpermno'] = patents['assignor'].map(company_permno_dict)\n",
    "    columns_new.extend(['assignor', 'sellerpermno'])\n",
    "    \n",
    "    i = 0\n",
    "    while 'name_' + str(i)  in columns:\n",
    "        buyer = 'name_' + str(i)\n",
    "        intersected_company_names = set(patents[buyer].dropna().values).intersection(set(crosswalk['company'].values))\n",
    "        temp = crosswalk[crosswalk['company'].isin(intersected_company_names)]\n",
    "        company_permno_dict = dict(zip(temp['company'].values, temp['permno'].values))\n",
    "        patents['buyerpermno_' + str(i)] = patents[buyer].map(company_permno_dict)\n",
    "        columns_new.extend([buyer, 'buyerpermno_' + str(i)])\n",
    "        i = i + 1    \n",
    "    columns_list = ['notmeaningful', 'patent_ids', 'recorded_date', 'reel-no', 'frame-no', 'total_number_assignees']\n",
    "    columns_list.extend(columns_new)\n",
    "    columns_list.extend(list(set(columns)-set(columns_list)))\n",
    "    patents = patents[columns_list]\n",
    "    patents.to_csv(file[:-4] +\"_final.csv\", index = False)\n",
    "    #drop empty columns which we cannot find permnos for multiple assignees\n",
    "    return patents"
   ]
  },
  {
   "cell_type": "code",
   "execution_count": 5,
   "metadata": {},
   "outputs": [],
   "source": [
    "crosswalk = pd.read_csv(\"C:\\\\Users\\\\fjying\\\\Desktop\\\\RA_Columbia\\\\patentparsing\\\\identifycompanypermno\\\\intermediate_output\\\\permno_processedallcompanyames_crosswalk.csv\")"
   ]
  },
  {
   "cell_type": "code",
   "execution_count": 8,
   "metadata": {},
   "outputs": [
    {
     "data": {
      "text/plain": [
       "['2013_01_notmeaningfultransfer.csv',\n",
       " '2013_02_notmeaningfultransfer.csv',\n",
       " '2014_01_notmeaningfultransfer.csv',\n",
       " '2014_02_notmeaningfultransfer.csv',\n",
       " '2015_notmeaningfultransfer.csv',\n",
       " 'ad20121231-01_notmeaningfultransfer.csv',\n",
       " 'ad20121231-02_notmeaningfultransfer.csv',\n",
       " 'ad20121231-03_notmeaningfultransfer.csv',\n",
       " 'ad20121231-04_notmeaningfultransfer.csv',\n",
       " 'ad20121231-05_notmeaningfultransfer.csv',\n",
       " 'ad20121231-06_notmeaningfultransfer.csv',\n",
       " 'ad20121231-07_notmeaningfultransfer.csv',\n",
       " 'ad20121231-08_notmeaningfultransfer.csv',\n",
       " 'ad20121231-09_notmeaningfultransfer.csv',\n",
       " 'ad20121231-10_notmeaningfultransfer.csv',\n",
       " 'ad20121231-11_notmeaningfultransfer.csv',\n",
       " 'ad20121231-12_notmeaningfultransfer.csv']"
      ]
     },
     "execution_count": 8,
     "metadata": {},
     "output_type": "execute_result"
    }
   ],
   "source": [
    "files"
   ]
  },
  {
   "cell_type": "code",
   "execution_count": null,
   "metadata": {},
   "outputs": [],
   "source": [
    "#notmeanigful patent transfers files\n",
    "#If the transfer is not meaningful, same permno"
   ]
  },
  {
   "cell_type": "code",
   "execution_count": 11,
   "metadata": {},
   "outputs": [
    {
     "name": "stderr",
     "output_type": "stream",
     "text": [
      "[Parallel(n_jobs=-1)]: Using backend ThreadingBackend with 4 concurrent workers.\n",
      "C:\\Users\\fjying\\anaconda3\\lib\\site-packages\\joblib\\_parallel_backends.py:608: DtypeWarning: Columns (1,16,18,19,20,21,24,26,29,30,31,33,34,35,36,37,38,39,40,42,43,45,49,51,52,54) have mixed types.Specify dtype option on import or set low_memory=False.\n",
      "  return self.func(*args, **kwargs)\n",
      "C:\\Users\\fjying\\anaconda3\\lib\\site-packages\\joblib\\_parallel_backends.py:608: DtypeWarning: Columns (8,19,20,21,22,23,24,25,26,27,28,29,30,31,32,33,34,35,36,37,38,39,40,41,42,43,44,45,46,47,48,49,50,51,52,53,54,55,56,57,58,59,60,61,62,63,64,65,66,67,68,69,70,71,72,73,74,75,78,79) have mixed types.Specify dtype option on import or set low_memory=False.\n",
      "  return self.func(*args, **kwargs)\n",
      "C:\\Users\\fjying\\anaconda3\\lib\\site-packages\\joblib\\_parallel_backends.py:608: DtypeWarning: Columns (1,15,17,18,19,20,21,22,23,24,25,26,27,28,29,30,31,32,33,34,35,36,37,38,39,40,41,42,43,44,45,46,47,48,49,50,52,53,54,55,56,57,58,59,60,61,62,63,64,67,68,69,70,71,73,74,75,76,78,79,80) have mixed types.Specify dtype option on import or set low_memory=False.\n",
      "  return self.func(*args, **kwargs)\n",
      "C:\\Users\\fjying\\anaconda3\\lib\\site-packages\\joblib\\_parallel_backends.py:608: DtypeWarning: Columns (2,3,4,5,7,8,9,10,14,15,16,17,20,21,22,23,28,29,30,31,32,35,36,37,38,42,43,44,45,47,48,49,50,51,52,53,54,55,56,57,58,59,60,61,62,63,64,65,66,67,68,69,70,71,72,73) have mixed types.Specify dtype option on import or set low_memory=False.\n",
      "  return self.func(*args, **kwargs)\n",
      "C:\\Users\\fjying\\anaconda3\\lib\\site-packages\\joblib\\_parallel_backends.py:608: DtypeWarning: Columns (1,17,19,20,22,23,24,25,26,27,28,29,31,32,33,34,37,38,39,40,41,44,45,46,47,50,51,52,54,55,56,57,58,59,60,61,62,63,64,66,67,68,69,70,71,72,73,74,75,76,77,79,80,81,82,83,84) have mixed types.Specify dtype option on import or set low_memory=False.\n",
      "  return self.func(*args, **kwargs)\n",
      "C:\\Users\\fjying\\anaconda3\\lib\\site-packages\\joblib\\_parallel_backends.py:608: DtypeWarning: Columns (1,15,16,17,18,19,20,21,22,23,24,25,26,28,29,30,31,32,33,34,35,37,38,39,40,41,42,43,44,45,48,49,50,51,52,53,56,57,58,59,61,62,63,65,66,67,68,69,70,71,73,74,75,76,77,78,79,80,81,82,83,84,87,88,89,90,91,93,95,96,98,99,100,101,102,103,104,105,106,107,108,109,111,112,113,114,115,117,118,119,120,121,122,124,125,126,127,128,129,130,131,132,133,134,135,136,137,138,139,140,141,142,145,146,147,148,149,150,151,152,153,154,155,156,158,159,160,162,163,164,165,167,168,169,172,173,175,176,177,178,179,180,181,182,183,184,185,186,187,188,189,190,191) have mixed types.Specify dtype option on import or set low_memory=False.\n",
      "  return self.func(*args, **kwargs)\n",
      "C:\\Users\\fjying\\anaconda3\\lib\\site-packages\\joblib\\_parallel_backends.py:608: DtypeWarning: Columns (1,15,16,17,18,19,20,21,22,23,24,26,27,29,30,31,32,33,34,35,36,37,38,39,40,41,42,43,44,45,47,49,51,52,53,54,55,56,57,58,59,60,61,62,63,64,66,67,69,70,71,72,73,74,75,76,77,78,79,80,81,82,83,84,85,86,87,88,89,90,91,93,95,96,97,98,101,103,104,105,106,107,108,110,111,112,113,115,116,117,118,119,120,121) have mixed types.Specify dtype option on import or set low_memory=False.\n",
      "  return self.func(*args, **kwargs)\n",
      "C:\\Users\\fjying\\anaconda3\\lib\\site-packages\\joblib\\_parallel_backends.py:608: DtypeWarning: Columns (1,15,17,18,19,20,21,22,23,24,25,26,27,29,30,31,32,33,34,35,36,37,38,39,40,41,42,43,44,45,46,47,49,50,51,52,54,56,58,60,61,63,64,67,68,69,70,71,73,74,75,77,79,80,81,82,83,84,85,86,87,90,91,93,94,95,96,97,98,99,100,101,102,103,104,105,106,107,108,109,110,111,112,113,114,116,117,118,119,120,121,122,123,124,125,126,127,128,129,130,131,132,133,134,135,136,138,139,140,141,143,144,145,146,147,148,149,150,151,152,153,154,155,156,157,158,159,160,161,162,163,164) have mixed types.Specify dtype option on import or set low_memory=False.\n",
      "  return self.func(*args, **kwargs)\n",
      "C:\\Users\\fjying\\anaconda3\\lib\\site-packages\\joblib\\_parallel_backends.py:608: DtypeWarning: Columns (1,15,16,20,21,22,23,24,25,26,27,28,29,31,32,33,34,36,37,38,39,40,41,42,43,44,45,46,47,48,49,50,51,52,53,54,55,56,59,60,61,62,63,64,65,66,68,69,70,72,73,74,76,77,79,80,82,83,84,85,86,87,88,89,90,91,92,93,94,95,96,97,98,99,100,101,103,104,105,106,107,111,112,113,114,115,116,117,118,119,120,121,123,124,125,126,127,128,129,130,132,133,134,135,136,137,138,139,140,141,142,143,144,145,147,149,150,151,152,153,154,155,156,157,158,159,161,162,163,164) have mixed types.Specify dtype option on import or set low_memory=False.\n",
      "  return self.func(*args, **kwargs)\n",
      "C:\\Users\\fjying\\anaconda3\\lib\\site-packages\\joblib\\_parallel_backends.py:608: DtypeWarning: Columns (0,1,15,17,18,19,20,21,22,23,24,26,27,28,29,30,31,32,33,34,35,36,37,38,39,40,42,43,44,45,46,47,48,49,50,51,52,53,54,55,57,58,59,60,61,62,63,64,65,66,67,70,71,72,73,74,75,76,77,78,80,81,82,85,86,87,88,89,90,91,93,94,95,96,98,99,100,101,102,104,105,107,108,109,110,111,112,113,114,115,117,118,119,120,122,123,124,125,126,128,129,130,131,132,133,134,135,136,137,138,139,140,141,144,145,146,147,148,149,150,151,153,154,155,156,157,158,159,160,161,162,163,165,166,167,168,169,170) have mixed types.Specify dtype option on import or set low_memory=False.\n",
      "  return self.func(*args, **kwargs)\n",
      "C:\\Users\\fjying\\anaconda3\\lib\\site-packages\\joblib\\_parallel_backends.py:608: DtypeWarning: Columns (1,15,17,18,19,20,21,22,24,25,26,27,28,29,30,31,32,33,34,36,37,38,39,40,41,42,43,44,45,46,47,48,49,50,51,52,54,55,56,57,58,59,61,62,63,64,65,66,67,68,69,70,71,72,73,75,76,77,78,80,81,82,83,84,85,86,87,88,89,91,92,93,94,95,96) have mixed types.Specify dtype option on import or set low_memory=False.\n",
      "  return self.func(*args, **kwargs)\n",
      "C:\\Users\\fjying\\anaconda3\\lib\\site-packages\\joblib\\_parallel_backends.py:608: DtypeWarning: Columns (1,15,16,17,18,19,20,21,22,23,25,26,27,28,29,31,33,34,35,36,37,38,39,40,41,42,43,45,47,48,49,50,51,52,54,56,57,59,60,61,62,63,64,65,66,68,69,70,71,73,74,75,76,77,78,79,80,81,82,83,84,85,86,87,89) have mixed types.Specify dtype option on import or set low_memory=False.\n",
      "  return self.func(*args, **kwargs)\n",
      "C:\\Users\\fjying\\anaconda3\\lib\\site-packages\\joblib\\_parallel_backends.py:608: DtypeWarning: Columns (1,15,17,18,21,22,23,24,25,26,27,28,29,30,33,35,36,37,38,39,40,41,43,44,45,46,49,51,52,53,54,55,56,57,58,59,61,62,63,64,65,67,68,69,71,72,74) have mixed types.Specify dtype option on import or set low_memory=False.\n",
      "  return self.func(*args, **kwargs)\n",
      "C:\\Users\\fjying\\anaconda3\\lib\\site-packages\\joblib\\_parallel_backends.py:608: DtypeWarning: Columns (1,15,18,19,21,22,23,24,25,26,27,29,30,31,32,34,35,36,37,38,39,41,43,45,46,47,48,50,52,53,54,56,57,58,59,60,61,62,63,64,65,67,68,69,70,71,74) have mixed types.Specify dtype option on import or set low_memory=False.\n",
      "  return self.func(*args, **kwargs)\n",
      "C:\\Users\\fjying\\anaconda3\\lib\\site-packages\\joblib\\_parallel_backends.py:608: DtypeWarning: Columns (1,15,16,18,19,21,22,23,25,27,29,30,31,32,33,34,36,37,38,39,40,41,42,43,45,48,49,50,52,53,54,55,56,57,58,59,60,61,62,63,65,67,68,69,70,71,73,74,75,77,79,81,82,83,84,85,86,87,88,90,91,92,93,94,95,96,98,99,100,101,103,104,105,107,108,109,111,112,113,114,115,116,118,120,121,122,123,124,125,126,127,128,129,130,131,132,133,134,135,136,137,138,139,140,141,142,143,144,145,146,147,148,149,150,151,152,153,155,156,157,158,159,160,161,162,164,165,166,168) have mixed types.Specify dtype option on import or set low_memory=False.\n",
      "  return self.func(*args, **kwargs)\n",
      "C:\\Users\\fjying\\anaconda3\\lib\\site-packages\\joblib\\_parallel_backends.py:608: DtypeWarning: Columns (1,15,16,17,18,19,20,21,22,23,24,25,27,29,31,32,34,35,36,37,38,39,40,41,42,43,44,45,46,47,48,50,51,52,53,54,55,56,57,58,59,61,62,63,65,67,68,69,70,71,72,73,74,75,76,77,78,79,80,81,82,83,84,85,87,88,89,90,91,92,93,94,95,97,98,99,100,101,104,105,106,107,108,110,111,113,114,116,117,118,119,120,121,122,123,124,125,126,127,128,130,131,132,133,134,135,136,137,138,139,140,141,142,143,144,145,147,148,151,154,155,156,157,158,159,160,161,162,163,164,165,166,167,168,169,170,171,172,173,174,175,176,177,178,181,182,183,184,185,186,187,188,189,190,192,193,194,195,196,197,198,199,200,202,203,204,205,206,207,208,209,210,211,212,213,214,215,216,217,218,219,221,222,224,226,227,230,231,233,234,235,236,238,239,241,242,243,244,245,247,248,249,250,251,253,254,255,257,259,260,261,262,263,264) have mixed types.Specify dtype option on import or set low_memory=False.\n",
      "  return self.func(*args, **kwargs)\n"
     ]
    },
    {
     "name": "stderr",
     "output_type": "stream",
     "text": [
      "[Parallel(n_jobs=-1)]: Done  17 out of  17 | elapsed:  9.5min finished\n"
     ]
    }
   ],
   "source": [
    "#multiprocessing for files\n",
    "with Parallel(n_jobs=-1, verbose=1, prefer=\"threads\") as parallel:\n",
    "    parallel(delayed(find_permnos)(file, crosswalk) for file in files)"
   ]
  }
 ],
 "metadata": {
  "kernelspec": {
   "display_name": "Python 3",
   "language": "python",
   "name": "python3"
  },
  "language_info": {
   "codemirror_mode": {
    "name": "ipython",
    "version": 3
   },
   "file_extension": ".py",
   "mimetype": "text/x-python",
   "name": "python",
   "nbconvert_exporter": "python",
   "pygments_lexer": "ipython3",
   "version": "3.7.6"
  }
 },
 "nbformat": 4,
 "nbformat_minor": 4
}
