{
 "cells": [
  {
   "cell_type": "code",
   "execution_count": 1,
   "metadata": {},
   "outputs": [],
   "source": [
    "import pandas as pd\n",
    "import datetime\n",
    "import numpy as np\n",
    "import os\n",
    "from string_grouper import match_strings"
   ]
  },
  {
   "cell_type": "code",
   "execution_count": 2,
   "metadata": {},
   "outputs": [
    {
     "name": "stderr",
     "output_type": "stream",
     "text": [
      "C:\\Users\\fjying\\anaconda3\\lib\\site-packages\\IPython\\core\\interactiveshell.py:3063: DtypeWarning: Columns (3,5) have mixed types.Specify dtype option on import or set low_memory=False.\n",
      "  interactivity=interactivity, compiler=compiler, result=result)\n"
     ]
    }
   ],
   "source": [
    "rawpatents = pd.read_csv(\"C:\\\\Users\\\\fjying\\\\Desktop\\\\RA_Columbia\\\\patentparsing\\\\identifycompanypermno\\\\input\\\\rawpatentrecord.csv\")"
   ]
  },
  {
   "cell_type": "code",
   "execution_count": 3,
   "metadata": {},
   "outputs": [],
   "source": [
    "os.chdir(\"C:\\\\Users\\\\fjying\\\\Desktop\\\\RA_Columbia\\\\patentparsing\\\\identifycompanypermno\\\\intermediate_output\")"
   ]
  },
  {
   "cell_type": "code",
   "execution_count": 4,
   "metadata": {},
   "outputs": [],
   "source": [
    "firstpatentassignments = pd.read_csv(\"first_patent_assignment_1980_2015_standardized.csv\")"
   ]
  },
  {
   "cell_type": "code",
   "execution_count": 5,
   "metadata": {},
   "outputs": [],
   "source": [
    "firstpatentassignments = firstpatentassignments[~firstpatentassignments['rawname_0'].isna()]"
   ]
  },
  {
   "cell_type": "code",
   "execution_count": 6,
   "metadata": {},
   "outputs": [],
   "source": [
    "rawpatents = rawpatents.dropna(subset = ['patnum', 'permno'])\n",
    "rawpatents = rawpatents.drop_duplicates(['patnum', 'permno'])\n",
    "rawpatents = rawpatents.rename(columns = {'patnum': 'patent_ids'})"
   ]
  },
  {
   "cell_type": "code",
   "execution_count": 7,
   "metadata": {},
   "outputs": [],
   "source": [
    "rawpatents['patent_ids'] = rawpatents['patent_ids'].astype(str)\n",
    "firstpatentassignments['patent_ids'] = firstpatentassignments['patent_ids'].astype(str)"
   ]
  },
  {
   "cell_type": "code",
   "execution_count": 8,
   "metadata": {},
   "outputs": [],
   "source": [
    "duplicatedpatentids = np.unique(rawpatents['patent_ids'][rawpatents['patent_ids'].duplicated()].values)"
   ]
  },
  {
   "cell_type": "code",
   "execution_count": 9,
   "metadata": {},
   "outputs": [],
   "source": [
    "rawpatents_noduplicated = rawpatents[~rawpatents['patent_ids'].isin(duplicatedpatentids)]\n",
    "rawpatents_duplicated = rawpatents[rawpatents['patent_ids'].isin(duplicatedpatentids)]"
   ]
  },
  {
   "cell_type": "code",
   "execution_count": 10,
   "metadata": {},
   "outputs": [],
   "source": [
    "crosswalk = pd.merge(rawpatents_noduplicated, firstpatentassignments, how= 'inner')"
   ]
  },
  {
   "cell_type": "code",
   "execution_count": 11,
   "metadata": {},
   "outputs": [],
   "source": [
    "crosswalk = crosswalk[['name_0', 'permno', 'recorded_date', 'patent_ids']]"
   ]
  },
  {
   "cell_type": "code",
   "execution_count": 12,
   "metadata": {},
   "outputs": [],
   "source": [
    "crosswalk = crosswalk.sort_values(['recorded_date'])"
   ]
  },
  {
   "cell_type": "code",
   "execution_count": 13,
   "metadata": {},
   "outputs": [],
   "source": [
    "crosswalk = crosswalk.drop_duplicates(['name_0', 'permno'])"
   ]
  },
  {
   "cell_type": "code",
   "execution_count": 14,
   "metadata": {},
   "outputs": [],
   "source": [
    "#Resolve relationship between one permno and multiple company names\n",
    "duplicated_permnos = np.unique(crosswalk['permno'][crosswalk['permno'].duplicated()].values)"
   ]
  },
  {
   "cell_type": "code",
   "execution_count": 15,
   "metadata": {},
   "outputs": [],
   "source": [
    "crosswalk_one_on = crosswalk[~crosswalk['permno'].isin(duplicated_permnos)]\n",
    "crosswalk_multiple_on_one = crosswalk[crosswalk['permno'].isin(duplicated_permnos)]"
   ]
  },
  {
   "cell_type": "code",
   "execution_count": 16,
   "metadata": {},
   "outputs": [
    {
     "name": "stdout",
     "output_type": "stream",
     "text": [
      "only stop words\n"
     ]
    }
   ],
   "source": [
    "crosswalk_final = pd.DataFrame()\n",
    "for i in duplicated_permnos:\n",
    "    temp = crosswalk[crosswalk['permno'] == i]\n",
    "    temp = temp.drop_duplicates(subset = ['name_0'], keep = 'first')\n",
    "    try:\n",
    "        matches = match_strings(temp['name_0'])\n",
    "    except ValueError:\n",
    "        print(\"only stop words\")\n",
    "        continue\n",
    "    matches = matches[matches['left_side'] != matches['right_side']]\n",
    "    if matches.empty:\n",
    "        continue\n",
    "    name = matches['left_side'].value_counts().keys()[0]\n",
    "    crosswalk_final = crosswalk_final.append(temp[temp['name_0'] == name])"
   ]
  },
  {
   "cell_type": "code",
   "execution_count": 17,
   "metadata": {},
   "outputs": [],
   "source": [
    "crosswalk_final = crosswalk_final.append(crosswalk_one_on)"
   ]
  },
  {
   "cell_type": "code",
   "execution_count": 18,
   "metadata": {
    "scrolled": true
   },
   "outputs": [],
   "source": [
    "#resolve one company name multiple permnos due to incomplete patent records\n",
    "crosswalk_final_one_comp_multiple_permno = crosswalk_final[crosswalk_final['name_0'].duplicated(keep = False)].sort_values(['name_0'])"
   ]
  },
  {
   "cell_type": "code",
   "execution_count": 19,
   "metadata": {},
   "outputs": [],
   "source": [
    "crosswalk_final_one_on_one = crosswalk_final[~crosswalk_final['name_0'].duplicated(keep = False)]"
   ]
  },
  {
   "cell_type": "code",
   "execution_count": 20,
   "metadata": {},
   "outputs": [],
   "source": [
    "crosswalk_final_one_comp_multiple_permno.to_csv(\"crosswalk_final_one_comp_multiple_permno.csv\", index = False)"
   ]
  },
  {
   "cell_type": "code",
   "execution_count": 21,
   "metadata": {},
   "outputs": [],
   "source": [
    "crsp_directory = pd.read_csv(\"C:\\\\Users\\\\fjying\\\\Desktop\\\\RA_Columbia\\\\patentparsing\\\\identifycompanypermno\\\\input\\\\crsp_directory.csv\")"
   ]
  },
  {
   "cell_type": "code",
   "execution_count": 22,
   "metadata": {},
   "outputs": [
    {
     "name": "stdout",
     "output_type": "stream",
     "text": [
      "43342.0\n"
     ]
    },
    {
     "data": {
      "text/plain": [
       "array(['E SYSTEMS INC', 'L T V ELECTROSYSTEMS INC'], dtype=object)"
      ]
     },
     "metadata": {},
     "output_type": "display_data"
    },
    {
     "name": "stdout",
     "output_type": "stream",
     "text": [
      "79472.0\n"
     ]
    },
    {
     "data": {
      "text/plain": [
       "array(['AETRIUM INC'], dtype=object)"
      ]
     },
     "metadata": {},
     "output_type": "display_data"
    },
    {
     "name": "stdout",
     "output_type": "stream",
     "text": [
      "78950.0\n"
     ]
    },
    {
     "data": {
      "text/plain": [
       "array(['ALAMO GROUP INC'], dtype=object)"
      ]
     },
     "metadata": {},
     "output_type": "display_data"
    },
    {
     "name": "stdout",
     "output_type": "stream",
     "text": [
      "36927.0\n"
     ]
    },
    {
     "data": {
      "text/plain": [
       "array(['STEEGO CORP', 'STERLING PRECISION CORP'], dtype=object)"
      ]
     },
     "metadata": {},
     "output_type": "display_data"
    },
    {
     "name": "stdout",
     "output_type": "stream",
     "text": [
      "60011.0\n"
     ]
    },
    {
     "data": {
      "text/plain": [
       "array(['WORK WEAR INC'], dtype=object)"
      ]
     },
     "metadata": {},
     "output_type": "display_data"
    },
    {
     "name": "stdout",
     "output_type": "stream",
     "text": [
      "39546.0\n"
     ]
    },
    {
     "data": {
      "text/plain": [
       "array(['WORK WEAR CORP'], dtype=object)"
      ]
     },
     "metadata": {},
     "output_type": "display_data"
    },
    {
     "name": "stdout",
     "output_type": "stream",
     "text": [
      "14286.0\n"
     ]
    },
    {
     "data": {
      "text/plain": [
       "array(['ANDERSEN GROUP INC', 'ANDERSEN LABORATORIES INC'], dtype=object)"
      ]
     },
     "metadata": {},
     "output_type": "display_data"
    },
    {
     "name": "stdout",
     "output_type": "stream",
     "text": [
      "87119.0\n"
     ]
    },
    {
     "data": {
      "text/plain": [
       "array(['CROWN ANDERSEN INC', 'CROWN ROTATIONAL MOLDED PRODS'],\n",
       "      dtype=object)"
      ]
     },
     "metadata": {},
     "output_type": "display_data"
    },
    {
     "name": "stdout",
     "output_type": "stream",
     "text": [
      "25882.0\n"
     ]
    },
    {
     "data": {
      "text/plain": [
       "array(['COMPUTER ENTRY SYS CORP'], dtype=object)"
      ]
     },
     "metadata": {},
     "output_type": "display_data"
    },
    {
     "name": "stdout",
     "output_type": "stream",
     "text": [
      "75540.0\n"
     ]
    },
    {
     "data": {
      "text/plain": [
       "array(['TERMINAL DATA CORP'], dtype=object)"
      ]
     },
     "metadata": {},
     "output_type": "display_data"
    },
    {
     "name": "stdout",
     "output_type": "stream",
     "text": [
      "77010.0\n"
     ]
    },
    {
     "data": {
      "text/plain": [
       "array(['EXCEL TECHNOLOGY INC'], dtype=object)"
      ]
     },
     "metadata": {},
     "output_type": "display_data"
    },
    {
     "name": "stdout",
     "output_type": "stream",
     "text": [
      "49964.0\n"
     ]
    },
    {
     "data": {
      "text/plain": [
       "array(['LOGETRONICS INC'], dtype=object)"
      ]
     },
     "metadata": {},
     "output_type": "display_data"
    },
    {
     "name": "stdout",
     "output_type": "stream",
     "text": [
      "52207.0\n"
     ]
    },
    {
     "data": {
      "text/plain": [
       "array(['MCQUAY INC NEW', 'MCQUAY PERFEX INC'], dtype=object)"
      ]
     },
     "metadata": {},
     "output_type": "display_data"
    },
    {
     "name": "stdout",
     "output_type": "stream",
     "text": [
      "42235.0\n"
     ]
    },
    {
     "data": {
      "text/plain": [
       "array(['AMERICAN AIR FILTER INC'], dtype=object)"
      ]
     },
     "metadata": {},
     "output_type": "display_data"
    },
    {
     "name": "stdout",
     "output_type": "stream",
     "text": [
      "31131.0\n"
     ]
    },
    {
     "data": {
      "text/plain": [
       "array(['DYSAN CORP'], dtype=object)"
      ]
     },
     "metadata": {},
     "output_type": "display_data"
    },
    {
     "name": "stdout",
     "output_type": "stream",
     "text": [
      "83855.0\n"
     ]
    },
    {
     "data": {
      "text/plain": [
       "array(['XIDEX CORP'], dtype=object)"
      ]
     },
     "metadata": {},
     "output_type": "display_data"
    },
    {
     "name": "stdout",
     "output_type": "stream",
     "text": [
      "14189.0\n"
     ]
    },
    {
     "data": {
      "text/plain": [
       "array(['REPUBLIC IRON & STEEL CO', 'REPUBLIC STEEL CORP'], dtype=object)"
      ]
     },
     "metadata": {},
     "output_type": "display_data"
    },
    {
     "name": "stdout",
     "output_type": "stream",
     "text": [
      "44177.0\n"
     ]
    },
    {
     "data": {
      "text/plain": [
       "array(['UNITED STATES REDUCTION CO'], dtype=object)"
      ]
     },
     "metadata": {},
     "output_type": "display_data"
    },
    {
     "name": "stdout",
     "output_type": "stream",
     "text": [
      "75523.0\n"
     ]
    },
    {
     "data": {
      "text/plain": [
       "array(['ALPNE LACE BRANDS INC', 'FIRST WORLD CHEESE INC'], dtype=object)"
      ]
     },
     "metadata": {},
     "output_type": "display_data"
    },
    {
     "name": "stdout",
     "output_type": "stream",
     "text": [
      "77173.0\n"
     ]
    },
    {
     "data": {
      "text/plain": [
       "array(['VITESSE SEMICONDUCTOR CORP'], dtype=object)"
      ]
     },
     "metadata": {},
     "output_type": "display_data"
    },
    {
     "name": "stdout",
     "output_type": "stream",
     "text": [
      "87390.0\n"
     ]
    },
    {
     "data": {
      "text/plain": [
       "array(['FINISAR CORP'], dtype=object)"
      ]
     },
     "metadata": {},
     "output_type": "display_data"
    },
    {
     "name": "stdout",
     "output_type": "stream",
     "text": [
      "77207.0\n"
     ]
    },
    {
     "data": {
      "text/plain": [
       "array(['BRADLEY PHARMACEUTICALS INC'], dtype=object)"
      ]
     },
     "metadata": {},
     "output_type": "display_data"
    },
    {
     "name": "stdout",
     "output_type": "stream",
     "text": [
      "54392.0\n"
     ]
    },
    {
     "data": {
      "text/plain": [
       "array(['MINNETONKA INC', 'MINNETONKA LABS INC'], dtype=object)"
      ]
     },
     "metadata": {},
     "output_type": "display_data"
    },
    {
     "name": "stdout",
     "output_type": "stream",
     "text": [
      "86496.0\n"
     ]
    },
    {
     "data": {
      "text/plain": [
       "array(['CONEXANT SYSTEMS INC'], dtype=object)"
      ]
     },
     "metadata": {},
     "output_type": "display_data"
    },
    {
     "name": "stdout",
     "output_type": "stream",
     "text": [
      "86969.0\n"
     ]
    },
    {
     "data": {
      "text/plain": [
       "array(['GLOBESPAN INC', 'GLOBESPAN VIRATA INC'], dtype=object)"
      ]
     },
     "metadata": {},
     "output_type": "display_data"
    },
    {
     "name": "stdout",
     "output_type": "stream",
     "text": [
      "45225.0\n"
     ]
    },
    {
     "data": {
      "text/plain": [
       "array(['LIBERTY LN CORP', 'LLC CORP', 'VALHI INC NEW'], dtype=object)"
      ]
     },
     "metadata": {},
     "output_type": "display_data"
    },
    {
     "name": "stdout",
     "output_type": "stream",
     "text": [
      "47627.0\n"
     ]
    },
    {
     "data": {
      "text/plain": [
       "array(['KEYCON INDUSTRIES INC'], dtype=object)"
      ]
     },
     "metadata": {},
     "output_type": "display_data"
    },
    {
     "name": "stdout",
     "output_type": "stream",
     "text": [
      "47140.0\n"
     ]
    },
    {
     "data": {
      "text/plain": [
       "array(['ATHLONE INDUSTRIES INC'], dtype=object)"
      ]
     },
     "metadata": {},
     "output_type": "display_data"
    },
    {
     "name": "stdout",
     "output_type": "stream",
     "text": [
      "77366.0\n"
     ]
    },
    {
     "data": {
      "text/plain": [
       "array(['CALLAWAY GOLF CO'], dtype=object)"
      ]
     },
     "metadata": {},
     "output_type": "display_data"
    },
    {
     "name": "stdout",
     "output_type": "stream",
     "text": [
      "75215.0\n"
     ]
    },
    {
     "data": {
      "text/plain": [
       "array(['CASH AMERICA INTERNATIONAL INC', 'CASH AMERICA INVESTMENTS INC'],\n",
       "      dtype=object)"
      ]
     },
     "metadata": {},
     "output_type": "display_data"
    },
    {
     "name": "stdout",
     "output_type": "stream",
     "text": [
      "89978.0\n"
     ]
    },
    {
     "data": {
      "text/plain": [
       "array([], dtype=object)"
      ]
     },
     "metadata": {},
     "output_type": "display_data"
    },
    {
     "name": "stdout",
     "output_type": "stream",
     "text": [
      "86021.0\n"
     ]
    },
    {
     "data": {
      "text/plain": [
       "array(['L 3 COMMUNICATIONS HLDGS INC'], dtype=object)"
      ]
     },
     "metadata": {},
     "output_type": "display_data"
    },
    {
     "name": "stdout",
     "output_type": "stream",
     "text": [
      "25452.0\n"
     ]
    },
    {
     "data": {
      "text/plain": [
       "array(['COMMUNICATIONS SYSTEM INC'], dtype=object)"
      ]
     },
     "metadata": {},
     "output_type": "display_data"
    },
    {
     "name": "stdout",
     "output_type": "stream",
     "text": [
      "84155.0\n"
     ]
    },
    {
     "data": {
      "text/plain": [
       "array(['PRECISION DRILLING CORP'], dtype=object)"
      ]
     },
     "metadata": {},
     "output_type": "display_data"
    },
    {
     "name": "stdout",
     "output_type": "stream",
     "text": [
      "80619.0\n"
     ]
    },
    {
     "data": {
      "text/plain": [
       "array(['COMPUTALOG LTD'], dtype=object)"
      ]
     },
     "metadata": {},
     "output_type": "display_data"
    },
    {
     "name": "stdout",
     "output_type": "stream",
     "text": [
      "60071.0\n"
     ]
    },
    {
     "data": {
      "text/plain": [
       "array(['OSROW PRODUCTS CORP'], dtype=object)"
      ]
     },
     "metadata": {},
     "output_type": "display_data"
    },
    {
     "name": "stdout",
     "output_type": "stream",
     "text": [
      "10419.0\n"
     ]
    },
    {
     "data": {
      "text/plain": [
       "array(['CREATIVE TECHNOLOGIES CORP'], dtype=object)"
      ]
     },
     "metadata": {},
     "output_type": "display_data"
    },
    {
     "name": "stdout",
     "output_type": "stream",
     "text": [
      "86142.0\n"
     ]
    },
    {
     "data": {
      "text/plain": [
       "array(['UNIGRAPHICS SOLUTIONS INC'], dtype=object)"
      ]
     },
     "metadata": {},
     "output_type": "display_data"
    },
    {
     "name": "stdout",
     "output_type": "stream",
     "text": [
      "83134.0\n"
     ]
    },
    {
     "data": {
      "text/plain": [
       "array(['ENGINEERING ANIMATION INC'], dtype=object)"
      ]
     },
     "metadata": {},
     "output_type": "display_data"
    },
    {
     "name": "stdout",
     "output_type": "stream",
     "text": [
      "75904.0\n"
     ]
    },
    {
     "data": {
      "text/plain": [
       "array(['EXIDE ELECTRONICS GROUP INC'], dtype=object)"
      ]
     },
     "metadata": {},
     "output_type": "display_data"
    },
    {
     "name": "stdout",
     "output_type": "stream",
     "text": [
      "62631.0\n"
     ]
    },
    {
     "data": {
      "text/plain": [
       "array(['INTERNATIONAL POWER MACHS CORP'], dtype=object)"
      ]
     },
     "metadata": {},
     "output_type": "display_data"
    },
    {
     "name": "stdout",
     "output_type": "stream",
     "text": [
      "87388.0\n"
     ]
    },
    {
     "data": {
      "text/plain": [
       "array(['EXPEDIA INC'], dtype=object)"
      ]
     },
     "metadata": {},
     "output_type": "display_data"
    },
    {
     "name": "stdout",
     "output_type": "stream",
     "text": [
      "90808.0\n"
     ]
    },
    {
     "data": {
      "text/plain": [
       "array([], dtype=object)"
      ]
     },
     "metadata": {},
     "output_type": "display_data"
    },
    {
     "name": "stdout",
     "output_type": "stream",
     "text": [
      "25785.0\n"
     ]
    },
    {
     "data": {
      "text/plain": [
       "array(['FORD MOTOR CO', 'FORD MOTOR CO DEL'], dtype=object)"
      ]
     },
     "metadata": {},
     "output_type": "display_data"
    },
    {
     "name": "stdout",
     "output_type": "stream",
     "text": [
      "89296.0\n"
     ]
    },
    {
     "data": {
      "text/plain": [
       "array(['JAGUAR P L C'], dtype=object)"
      ]
     },
     "metadata": {},
     "output_type": "display_data"
    },
    {
     "name": "stdout",
     "output_type": "stream",
     "text": [
      "48363.0\n"
     ]
    },
    {
     "data": {
      "text/plain": [
       "array(['LACLEDE STEEL CO'], dtype=object)"
      ]
     },
     "metadata": {},
     "output_type": "display_data"
    },
    {
     "name": "stdout",
     "output_type": "stream",
     "text": [
      "10495.0\n"
     ]
    },
    {
     "data": {
      "text/plain": [
       "array(['ANACONDA CO', 'ANACONDA COPPER MNG CO'], dtype=object)"
      ]
     },
     "metadata": {},
     "output_type": "display_data"
    },
    {
     "name": "stdout",
     "output_type": "stream",
     "text": [
      "39029.0\n"
     ]
    },
    {
     "data": {
      "text/plain": [
       "array(['GIGA TRONICS INC'], dtype=object)"
      ]
     },
     "metadata": {},
     "output_type": "display_data"
    },
    {
     "name": "stdout",
     "output_type": "stream",
     "text": [
      "81745.0\n"
     ]
    },
    {
     "data": {
      "text/plain": [
       "array(['WAVETEK CORP'], dtype=object)"
      ]
     },
     "metadata": {},
     "output_type": "display_data"
    },
    {
     "name": "stdout",
     "output_type": "stream",
     "text": [
      "39335.0\n"
     ]
    },
    {
     "data": {
      "text/plain": [
       "array(['CONTEL CORP', 'CONTINENTAL INDEPENDENT TEL CO',\n",
       "       'CONTINENTAL TELECOM INC', 'CONTINENTAL TELEPHONE CO',\n",
       "       'CONTINENTAL TELEPHONE CORP'], dtype=object)"
      ]
     },
     "metadata": {},
     "output_type": "display_data"
    },
    {
     "name": "stdout",
     "output_type": "stream",
     "text": [
      "78971.0\n"
     ]
    },
    {
     "data": {
      "text/plain": [
       "array(['GILAT SATELLITE NETWORKS LTD'], dtype=object)"
      ]
     },
     "metadata": {},
     "output_type": "display_data"
    },
    {
     "name": "stdout",
     "output_type": "stream",
     "text": [
      "78889.0\n"
     ]
    },
    {
     "data": {
      "text/plain": [
       "array(['GLOBAL INDUSTRIES LTD'], dtype=object)"
      ]
     },
     "metadata": {},
     "output_type": "display_data"
    },
    {
     "name": "stdout",
     "output_type": "stream",
     "text": [
      "72064.0\n"
     ]
    },
    {
     "data": {
      "text/plain": [
       "array(['SPECTRAL DYNAMICS CORP'], dtype=object)"
      ]
     },
     "metadata": {},
     "output_type": "display_data"
    },
    {
     "name": "stdout",
     "output_type": "stream",
     "text": [
      "65526.0\n"
     ]
    },
    {
     "data": {
      "text/plain": [
       "array(['RAGEN CORP', 'RAGEN PRECISION INDS INC'], dtype=object)"
      ]
     },
     "metadata": {},
     "output_type": "display_data"
    },
    {
     "name": "stdout",
     "output_type": "stream",
     "text": [
      "77352.0\n"
     ]
    },
    {
     "data": {
      "text/plain": [
       "array(['ACCESS HEALTH INC', 'ACCESS HEALTH MARKETING INC'], dtype=object)"
      ]
     },
     "metadata": {},
     "output_type": "display_data"
    },
    {
     "name": "stdout",
     "output_type": "stream",
     "text": [
      "40540.0\n"
     ]
    },
    {
     "data": {
      "text/plain": [
       "array(['H E I INC'], dtype=object)"
      ]
     },
     "metadata": {},
     "output_type": "display_data"
    },
    {
     "name": "stdout",
     "output_type": "stream",
     "text": [
      "32678.0\n"
     ]
    },
    {
     "data": {
      "text/plain": [
       "array(['HEICO CORP', 'HEICO CORP NEW', 'HEINICKE INSTRS CO'], dtype=object)"
      ]
     },
     "metadata": {},
     "output_type": "display_data"
    },
    {
     "name": "stdout",
     "output_type": "stream",
     "text": [
      "22218.0\n"
     ]
    },
    {
     "data": {
      "text/plain": [
       "array(['WESTERN PACIFIC INDS INC DE', 'WESTERN PACIFIC RAILROAD CO'],\n",
       "      dtype=object)"
      ]
     },
     "metadata": {},
     "output_type": "display_data"
    },
    {
     "name": "stdout",
     "output_type": "stream",
     "text": [
      "42390.0\n"
     ]
    },
    {
     "data": {
      "text/plain": [
       "array(['VEEDER INDUSTRIES INC', 'VEEDER ROOT INC'], dtype=object)"
      ]
     },
     "metadata": {},
     "output_type": "display_data"
    },
    {
     "name": "stdout",
     "output_type": "stream",
     "text": [
      "76001.0\n"
     ]
    },
    {
     "data": {
      "text/plain": [
       "array(['INSIGHT ENTERTAINMENT CORP', 'VENTURA ENTERTAINMENT GROUP LTD'],\n",
       "      dtype=object)"
      ]
     },
     "metadata": {},
     "output_type": "display_data"
    },
    {
     "name": "stdout",
     "output_type": "stream",
     "text": [
      "87110.0\n"
     ]
    },
    {
     "data": {
      "text/plain": [
       "array(['INSIGHT COMMUNICATIONS INC'], dtype=object)"
      ]
     },
     "metadata": {},
     "output_type": "display_data"
    },
    {
     "name": "stdout",
     "output_type": "stream",
     "text": [
      "81220.0\n"
     ]
    },
    {
     "data": {
      "text/plain": [
       "array(['INSIGHT ENTERPRISES INC'], dtype=object)"
      ]
     },
     "metadata": {},
     "output_type": "display_data"
    },
    {
     "name": "stdout",
     "output_type": "stream",
     "text": [
      "78901.0\n"
     ]
    },
    {
     "data": {
      "text/plain": [
       "array(['NORAND CORP'], dtype=object)"
      ]
     },
     "metadata": {},
     "output_type": "display_data"
    },
    {
     "name": "stdout",
     "output_type": "stream",
     "text": [
      "44840.0\n"
     ]
    },
    {
     "data": {
      "text/plain": [
       "array(['INTERFACE MECHANISMS', 'INTERMEC CORP'], dtype=object)"
      ]
     },
     "metadata": {},
     "output_type": "display_data"
    },
    {
     "name": "stdout",
     "output_type": "stream",
     "text": [
      "85473.0\n"
     ]
    },
    {
     "data": {
      "text/plain": [
       "array(['I T C DELTACOM INC'], dtype=object)"
      ]
     },
     "metadata": {},
     "output_type": "display_data"
    },
    {
     "name": "stdout",
     "output_type": "stream",
     "text": [
      "88939.0\n"
     ]
    },
    {
     "data": {
      "text/plain": [
       "array(['I T C LEARNING CORP', 'INDUSTRIAL TRAINING CORP'], dtype=object)"
      ]
     },
     "metadata": {},
     "output_type": "display_data"
    },
    {
     "name": "stdout",
     "output_type": "stream",
     "text": [
      "91153.0\n"
     ]
    },
    {
     "data": {
      "text/plain": [
       "array([], dtype=object)"
      ]
     },
     "metadata": {},
     "output_type": "display_data"
    },
    {
     "name": "stdout",
     "output_type": "stream",
     "text": [
      "25769.0\n"
     ]
    },
    {
     "data": {
      "text/plain": [
       "array(['KERR MCGEE CORP', 'KERR MCGEE OIL INDUSTRIES INC'], dtype=object)"
      ]
     },
     "metadata": {},
     "output_type": "display_data"
    },
    {
     "name": "stdout",
     "output_type": "stream",
     "text": [
      "11754.0\n"
     ]
    },
    {
     "data": {
      "text/plain": [
       "array(['EASTMAN KODAK CO'], dtype=object)"
      ]
     },
     "metadata": {},
     "output_type": "display_data"
    },
    {
     "name": "stdout",
     "output_type": "stream",
     "text": [
      "39132.0\n"
     ]
    },
    {
     "data": {
      "text/plain": [
       "array(['POLYCHROME CORP'], dtype=object)"
      ]
     },
     "metadata": {},
     "output_type": "display_data"
    },
    {
     "name": "stdout",
     "output_type": "stream",
     "text": [
      "86943.0\n"
     ]
    },
    {
     "data": {
      "text/plain": [
       "array(['KONINKLIJKE PHILIPS ELEC N V'], dtype=object)"
      ]
     },
     "metadata": {},
     "output_type": "display_data"
    },
    {
     "name": "stdout",
     "output_type": "stream",
     "text": [
      "10752.0\n"
     ]
    },
    {
     "data": {
      "text/plain": [
       "array(['ADAC LABORATORIES INC'], dtype=object)"
      ]
     },
     "metadata": {},
     "output_type": "display_data"
    },
    {
     "name": "stdout",
     "output_type": "stream",
     "text": [
      "82853.0\n"
     ]
    },
    {
     "data": {
      "text/plain": [
       "array(['HEARTSTREAM INC'], dtype=object)"
      ]
     },
     "metadata": {},
     "output_type": "display_data"
    },
    {
     "name": "stdout",
     "output_type": "stream",
     "text": [
      "18067.0\n"
     ]
    },
    {
     "data": {
      "text/plain": [
       "array(['ZENITH ELECTRONICS CORP', 'ZENITH RADIO CORP'], dtype=object)"
      ]
     },
     "metadata": {},
     "output_type": "display_data"
    },
    {
     "name": "stdout",
     "output_type": "stream",
     "text": [
      "29210.0\n"
     ]
    },
    {
     "data": {
      "text/plain": [
       "array(['DEL ELECTRONICS CORP', 'DEL GLOBAL TECHNOLOGIES CORP'],\n",
       "      dtype=object)"
      ]
     },
     "metadata": {},
     "output_type": "display_data"
    },
    {
     "name": "stdout",
     "output_type": "stream",
     "text": [
      "22760.0\n"
     ]
    },
    {
     "data": {
      "text/plain": [
       "array(['MOHASCO CORP', 'MOHASCO INDUSTRIES INC',\n",
       "       'SMITH ALEXANDER & SONS CARPET CO', 'SMITH ALEXANDER INC'],\n",
       "      dtype=object)"
      ]
     },
     "metadata": {},
     "output_type": "display_data"
    },
    {
     "name": "stdout",
     "output_type": "stream",
     "text": [
      "27609.0\n"
     ]
    },
    {
     "data": {
      "text/plain": [
       "array(['HOOVER BALL & BEARING CO', 'HOOVER UNIVERSAL INC'], dtype=object)"
      ]
     },
     "metadata": {},
     "output_type": "display_data"
    },
    {
     "name": "stdout",
     "output_type": "stream",
     "text": [
      "30729.0\n"
     ]
    },
    {
     "data": {
      "text/plain": [
       "array(['DRESHER INC'], dtype=object)"
      ]
     },
     "metadata": {},
     "output_type": "display_data"
    },
    {
     "name": "stdout",
     "output_type": "stream",
     "text": [
      "90284.0\n"
     ]
    },
    {
     "data": {
      "text/plain": [
       "array([], dtype=object)"
      ]
     },
     "metadata": {},
     "output_type": "display_data"
    },
    {
     "name": "stdout",
     "output_type": "stream",
     "text": [
      "11042.0\n"
     ]
    },
    {
     "data": {
      "text/plain": [
       "array(['ADVANTAGE COS INC', 'HIGHLAND INNS CORP',\n",
       "       'L D D S COMMUNICATIONS INC', 'L D D S COMMUNICATIONS INC GA',\n",
       "       'M C I WORLDCOM INC', 'WORLDCOM INC GA', 'WORLDCOM INC GA NEW'],\n",
       "      dtype=object)"
      ]
     },
     "metadata": {},
     "output_type": "display_data"
    },
    {
     "name": "stdout",
     "output_type": "stream",
     "text": [
      "34711.0\n"
     ]
    },
    {
     "data": {
      "text/plain": [
       "array(['FIFE CORP'], dtype=object)"
      ]
     },
     "metadata": {},
     "output_type": "display_data"
    },
    {
     "name": "stdout",
     "output_type": "stream",
     "text": [
      "10969.0\n"
     ]
    },
    {
     "data": {
      "text/plain": [
       "array(['DATA MEASUREMENT CORP'], dtype=object)"
      ]
     },
     "metadata": {},
     "output_type": "display_data"
    },
    {
     "name": "stdout",
     "output_type": "stream",
     "text": [
      "28222.0\n"
     ]
    },
    {
     "data": {
      "text/plain": [
       "array(['AIR PRODUCTS & CHEMICALS INC'], dtype=object)"
      ]
     },
     "metadata": {},
     "output_type": "display_data"
    },
    {
     "name": "stdout",
     "output_type": "stream",
     "text": [
      "10989.0\n"
     ]
    },
    {
     "data": {
      "text/plain": [
       "array(['BESTFOODS', 'C P C INTERNATIONAL INC', 'CORN PRODUCTS CO',\n",
       "       'CORN PRODUCTS REFINING CO'], dtype=object)"
      ]
     },
     "metadata": {},
     "output_type": "display_data"
    },
    {
     "name": "stdout",
     "output_type": "stream",
     "text": [
      "14024.0\n"
     ]
    },
    {
     "data": {
      "text/plain": [
       "array(['AMICON CORP'], dtype=object)"
      ]
     },
     "metadata": {},
     "output_type": "display_data"
    },
    {
     "name": "stdout",
     "output_type": "stream",
     "text": [
      "31333.0\n"
     ]
    },
    {
     "data": {
      "text/plain": [
       "array(['DORR OLIVER INC'], dtype=object)"
      ]
     },
     "metadata": {},
     "output_type": "display_data"
    },
    {
     "name": "stdout",
     "output_type": "stream",
     "text": [
      "41347.0\n"
     ]
    },
    {
     "data": {
      "text/plain": [
       "array(['MILLMASTER ONYX CORP'], dtype=object)"
      ]
     },
     "metadata": {},
     "output_type": "display_data"
    },
    {
     "name": "stdout",
     "output_type": "stream",
     "text": [
      "44097.0\n"
     ]
    },
    {
     "data": {
      "text/plain": [
       "array(['KEWANEE INDUSTRIES INC', 'KEWANEE OIL CO'], dtype=object)"
      ]
     },
     "metadata": {},
     "output_type": "display_data"
    },
    {
     "name": "stdout",
     "output_type": "stream",
     "text": [
      "78425.0\n"
     ]
    },
    {
     "data": {
      "text/plain": [
       "array(['GANDALF TECHNOLOGIES INC'], dtype=object)"
      ]
     },
     "metadata": {},
     "output_type": "display_data"
    },
    {
     "name": "stdout",
     "output_type": "stream",
     "text": [
      "44170.0\n"
     ]
    },
    {
     "data": {
      "text/plain": [
       "array(['INFOTRON SYSTEMS CORP'], dtype=object)"
      ]
     },
     "metadata": {},
     "output_type": "display_data"
    },
    {
     "name": "stdout",
     "output_type": "stream",
     "text": [
      "69550.0\n"
     ]
    },
    {
     "data": {
      "text/plain": [
       "array(['MYLAN LABS INC'], dtype=object)"
      ]
     },
     "metadata": {},
     "output_type": "display_data"
    },
    {
     "name": "stdout",
     "output_type": "stream",
     "text": [
      "15667.0\n"
     ]
    },
    {
     "data": {
      "text/plain": [
       "array(['AMERICAN HOME PRODUCTS CORP', 'WYETH'], dtype=object)"
      ]
     },
     "metadata": {},
     "output_type": "display_data"
    },
    {
     "name": "stdout",
     "output_type": "stream",
     "text": [
      "82200.0\n"
     ]
    },
    {
     "data": {
      "text/plain": [
       "array(['NETSCAPE COMMUNICATIONS CORP'], dtype=object)"
      ]
     },
     "metadata": {},
     "output_type": "display_data"
    },
    {
     "name": "stdout",
     "output_type": "stream",
     "text": [
      "77418.0\n"
     ]
    },
    {
     "data": {
      "text/plain": [
       "array(['A O L TIME WARNER INC', 'AMERICA ONLINE INC'], dtype=object)"
      ]
     },
     "metadata": {},
     "output_type": "display_data"
    },
    {
     "name": "stdout",
     "output_type": "stream",
     "text": [
      "40943.0\n"
     ]
    },
    {
     "data": {
      "text/plain": [
       "array(['HANSEN MANUFACTURING CO'], dtype=object)"
      ]
     },
     "metadata": {},
     "output_type": "display_data"
    },
    {
     "name": "stdout",
     "output_type": "stream",
     "text": [
      "33048.0\n"
     ]
    },
    {
     "data": {
      "text/plain": [
       "array(['I M C MAGNETICS CORP'], dtype=object)"
      ]
     },
     "metadata": {},
     "output_type": "display_data"
    },
    {
     "name": "stdout",
     "output_type": "stream",
     "text": [
      "90537.0\n"
     ]
    },
    {
     "data": {
      "text/plain": [
       "array(['NOBLE CORP', 'NOBLE DRILLING CORP'], dtype=object)"
      ]
     },
     "metadata": {},
     "output_type": "display_data"
    },
    {
     "name": "stdout",
     "output_type": "stream",
     "text": [
      "85622.0\n"
     ]
    },
    {
     "data": {
      "text/plain": [
       "array(['NOBLE INTERNATIONAL LTD'], dtype=object)"
      ]
     },
     "metadata": {},
     "output_type": "display_data"
    },
    {
     "name": "stdout",
     "output_type": "stream",
     "text": [
      "88549.0\n"
     ]
    },
    {
     "data": {
      "text/plain": [
       "array(['O2MICRO INTERNATIONAL LTD'], dtype=object)"
      ]
     },
     "metadata": {},
     "output_type": "display_data"
    },
    {
     "name": "stdout",
     "output_type": "stream",
     "text": [
      "90973.0\n"
     ]
    },
    {
     "data": {
      "text/plain": [
       "array([], dtype=object)"
      ]
     },
     "metadata": {},
     "output_type": "display_data"
    },
    {
     "name": "stdout",
     "output_type": "stream",
     "text": [
      "51132.0\n"
     ]
    },
    {
     "data": {
      "text/plain": [
       "array(['MALLINCKRODT CHEMICAL WKS', 'MALLINCKRODT INC'], dtype=object)"
      ]
     },
     "metadata": {},
     "output_type": "display_data"
    },
    {
     "name": "stdout",
     "output_type": "stream",
     "text": [
      "83300.0\n"
     ]
    },
    {
     "data": {
      "text/plain": [
       "array(['WISCONSIN CENTRIFUGAL INC'], dtype=object)"
      ]
     },
     "metadata": {},
     "output_type": "display_data"
    },
    {
     "name": "stdout",
     "output_type": "stream",
     "text": [
      "24811.0\n"
     ]
    },
    {
     "data": {
      "text/plain": [
       "array(['OWENS CORNING', 'OWENS CORNING FIBERGLAS CORP'], dtype=object)"
      ]
     },
     "metadata": {},
     "output_type": "display_data"
    },
    {
     "name": "stdout",
     "output_type": "stream",
     "text": [
      "91531.0\n"
     ]
    },
    {
     "data": {
      "text/plain": [
       "array([], dtype=object)"
      ]
     },
     "metadata": {},
     "output_type": "display_data"
    },
    {
     "name": "stdout",
     "output_type": "stream",
     "text": [
      "81575.0\n"
     ]
    },
    {
     "data": {
      "text/plain": [
       "array(['PACE HEALTH MANAGEMENT SYS INC'], dtype=object)"
      ]
     },
     "metadata": {},
     "output_type": "display_data"
    },
    {
     "name": "stdout",
     "output_type": "stream",
     "text": [
      "77912.0\n"
     ]
    },
    {
     "data": {
      "text/plain": [
       "array(['AMERICAN INSURANCE GROUP INC', 'PACE AMERICAN GROUP'],\n",
       "      dtype=object)"
      ]
     },
     "metadata": {},
     "output_type": "display_data"
    },
    {
     "name": "stdout",
     "output_type": "stream",
     "text": [
      "87800.0\n"
     ]
    },
    {
     "data": {
      "text/plain": [
       "array(['PALM INC'], dtype=object)"
      ]
     },
     "metadata": {},
     "output_type": "display_data"
    },
    {
     "name": "stdout",
     "output_type": "stream",
     "text": [
      "89872.0\n"
     ]
    },
    {
     "data": {
      "text/plain": [
       "array([], dtype=object)"
      ]
     },
     "metadata": {},
     "output_type": "display_data"
    },
    {
     "name": "stdout",
     "output_type": "stream",
     "text": [
      "56143.0\n"
     ]
    },
    {
     "data": {
      "text/plain": [
       "array(['POPE & TALBOT INC'], dtype=object)"
      ]
     },
     "metadata": {},
     "output_type": "display_data"
    },
    {
     "name": "stdout",
     "output_type": "stream",
     "text": [
      "78860.0\n"
     ]
    },
    {
     "data": {
      "text/plain": [
       "array(['PARAGON TRADE BRANDS INC'], dtype=object)"
      ]
     },
     "metadata": {},
     "output_type": "display_data"
    },
    {
     "name": "stdout",
     "output_type": "stream",
     "text": [
      "41996.0\n"
     ]
    },
    {
     "data": {
      "text/plain": [
       "array(['RIEGEL TEXTILE CORP'], dtype=object)"
      ]
     },
     "metadata": {},
     "output_type": "display_data"
    },
    {
     "name": "stdout",
     "output_type": "stream",
     "text": [
      "62607.0\n"
     ]
    },
    {
     "data": {
      "text/plain": [
       "array(['GENERAL DATACOMM INDS INC'], dtype=object)"
      ]
     },
     "metadata": {},
     "output_type": "display_data"
    },
    {
     "name": "stdout",
     "output_type": "stream",
     "text": [
      "87361.0\n"
     ]
    },
    {
     "data": {
      "text/plain": [
       "array(['P C TEL INC'], dtype=object)"
      ]
     },
     "metadata": {},
     "output_type": "display_data"
    },
    {
     "name": "stdout",
     "output_type": "stream",
     "text": [
      "86806.0\n"
     ]
    },
    {
     "data": {
      "text/plain": [
       "array(['APPLERA CORP', 'P E CORP'], dtype=object)"
      ]
     },
     "metadata": {},
     "output_type": "display_data"
    },
    {
     "name": "stdout",
     "output_type": "stream",
     "text": [
      "42200.0\n"
     ]
    },
    {
     "data": {
      "text/plain": [
       "array(['E G & G INC', 'EDGERTON GERMES & GRIER INC', 'PERKINELMER INC'],\n",
       "      dtype=object)"
      ]
     },
     "metadata": {},
     "output_type": "display_data"
    },
    {
     "name": "stdout",
     "output_type": "stream",
     "text": [
      "62498.0\n"
     ]
    },
    {
     "data": {
      "text/plain": [
       "array(['WEST INC', 'WEST PHARMACEUTICAL SERVICES INC'], dtype=object)"
      ]
     },
     "metadata": {},
     "output_type": "display_data"
    },
    {
     "name": "stdout",
     "output_type": "stream",
     "text": [
      "89265.0\n"
     ]
    },
    {
     "data": {
      "text/plain": [
       "array(['AMERICAN PHARMACEUTICAL PARTNERS'], dtype=object)"
      ]
     },
     "metadata": {},
     "output_type": "display_data"
    },
    {
     "name": "stdout",
     "output_type": "stream",
     "text": [
      "10333.0\n"
     ]
    },
    {
     "data": {
      "text/plain": [
       "array(['XOMA CORP', 'XOMA LTD'], dtype=object)"
      ]
     },
     "metadata": {},
     "output_type": "display_data"
    },
    {
     "name": "stdout",
     "output_type": "stream",
     "text": [
      "19773.0\n"
     ]
    },
    {
     "data": {
      "text/plain": [
       "array(['BUNTING INC', 'BUNTING STERISYSTEMS INC'], dtype=object)"
      ]
     },
     "metadata": {},
     "output_type": "display_data"
    },
    {
     "name": "stdout",
     "output_type": "stream",
     "text": [
      "77850.0\n"
     ]
    },
    {
     "data": {
      "text/plain": [
       "array(['PRECISION SYSTEMS INC'], dtype=object)"
      ]
     },
     "metadata": {},
     "output_type": "display_data"
    },
    {
     "name": "stdout",
     "output_type": "stream",
     "text": [
      "42307.0\n"
     ]
    },
    {
     "data": {
      "text/plain": [
       "array(['MICHIGAN SEAMLESS TUBE CO', 'QUANEX CORP'], dtype=object)"
      ]
     },
     "metadata": {},
     "output_type": "display_data"
    },
    {
     "name": "stdout",
     "output_type": "stream",
     "text": [
      "10499.0\n"
     ]
    },
    {
     "data": {
      "text/plain": [
       "array(['NICHOLS HOMESHIELD INC'], dtype=object)"
      ]
     },
     "metadata": {},
     "output_type": "display_data"
    },
    {
     "name": "stdout",
     "output_type": "stream",
     "text": [
      "76652.0\n"
     ]
    },
    {
     "data": {
      "text/plain": [
       "array(['APPLIED IMMUNE SCIENCES INC'], dtype=object)"
      ]
     },
     "metadata": {},
     "output_type": "display_data"
    },
    {
     "name": "stdout",
     "output_type": "stream",
     "text": [
      "78862.0\n"
     ]
    },
    {
     "data": {
      "text/plain": [
       "array(['AVENTIS', 'RHONE POULENC S A'], dtype=object)"
      ]
     },
     "metadata": {},
     "output_type": "display_data"
    },
    {
     "name": "stdout",
     "output_type": "stream",
     "text": [
      "83412.0\n"
     ]
    },
    {
     "data": {
      "text/plain": [
       "array(['RIBOZYME PHARMACEUTICALS INC'], dtype=object)"
      ]
     },
     "metadata": {},
     "output_type": "display_data"
    },
    {
     "name": "stdout",
     "output_type": "stream",
     "text": [
      "79598.0\n"
     ]
    },
    {
     "data": {
      "text/plain": [
       "array(['INNOVIR LABORATORIES INC'], dtype=object)"
      ]
     },
     "metadata": {},
     "output_type": "display_data"
    },
    {
     "name": "stdout",
     "output_type": "stream",
     "text": [
      "57840.0\n"
     ]
    },
    {
     "data": {
      "text/plain": [
       "array(['OLINKRAFT INC'], dtype=object)"
      ]
     },
     "metadata": {},
     "output_type": "display_data"
    },
    {
     "name": "stdout",
     "output_type": "stream",
     "text": [
      "25371.0\n"
     ]
    },
    {
     "data": {
      "text/plain": [
       "array(['FEDERAL PAPER BOARD INC'], dtype=object)"
      ]
     },
     "metadata": {},
     "output_type": "display_data"
    },
    {
     "name": "stdout",
     "output_type": "stream",
     "text": [
      "64048.0\n"
     ]
    },
    {
     "data": {
      "text/plain": [
       "array(['PRIAM CORP'], dtype=object)"
      ]
     },
     "metadata": {},
     "output_type": "display_data"
    },
    {
     "name": "stdout",
     "output_type": "stream",
     "text": [
      "87139.0\n"
     ]
    },
    {
     "data": {
      "text/plain": [
       "array(['FAIRCHILD SEMICONDUCTOR INTL INC'], dtype=object)"
      ]
     },
     "metadata": {},
     "output_type": "display_data"
    },
    {
     "name": "stdout",
     "output_type": "stream",
     "text": [
      "74158.0\n"
     ]
    },
    {
     "data": {
      "text/plain": [
       "array(['SYNCOM CORP'], dtype=object)"
      ]
     },
     "metadata": {},
     "output_type": "display_data"
    },
    {
     "name": "stdout",
     "output_type": "stream",
     "text": [
      "59758.0\n"
     ]
    },
    {
     "data": {
      "text/plain": [
       "array(['KAISER STEEL CORP'], dtype=object)"
      ]
     },
     "metadata": {},
     "output_type": "display_data"
    },
    {
     "name": "stdout",
     "output_type": "stream",
     "text": [
      "60361.0\n"
     ]
    },
    {
     "data": {
      "text/plain": [
       "array(['TANNETICS INC'], dtype=object)"
      ]
     },
     "metadata": {},
     "output_type": "display_data"
    },
    {
     "name": "stdout",
     "output_type": "stream",
     "text": [
      "88935.0\n"
     ]
    },
    {
     "data": {
      "text/plain": [
       "array(['SIEMENS A G'], dtype=object)"
      ]
     },
     "metadata": {},
     "output_type": "display_data"
    },
    {
     "name": "stdout",
     "output_type": "stream",
     "text": [
      "87664.0\n"
     ]
    },
    {
     "data": {
      "text/plain": [
       "array(['INFINEON TECHNOLOGIES A G'], dtype=object)"
      ]
     },
     "metadata": {},
     "output_type": "display_data"
    },
    {
     "name": "stdout",
     "output_type": "stream",
     "text": [
      "90251.0\n"
     ]
    },
    {
     "data": {
      "text/plain": [
       "array([], dtype=object)"
      ]
     },
     "metadata": {},
     "output_type": "display_data"
    },
    {
     "name": "stdout",
     "output_type": "stream",
     "text": [
      "89835.0\n"
     ]
    },
    {
     "data": {
      "text/plain": [
       "array([], dtype=object)"
      ]
     },
     "metadata": {},
     "output_type": "display_data"
    },
    {
     "name": "stdout",
     "output_type": "stream",
     "text": [
      "11761.0\n"
     ]
    },
    {
     "data": {
      "text/plain": [
       "array(['DALLAS SEMICONDUCTOR CORP'], dtype=object)"
      ]
     },
     "metadata": {},
     "output_type": "display_data"
    },
    {
     "name": "stdout",
     "output_type": "stream",
     "text": [
      "65402.0\n"
     ]
    },
    {
     "data": {
      "text/plain": [
       "array(['SMITH A O CORP'], dtype=object)"
      ]
     },
     "metadata": {},
     "output_type": "display_data"
    },
    {
     "name": "stdout",
     "output_type": "stream",
     "text": [
      "19852.0\n"
     ]
    },
    {
     "data": {
      "text/plain": [
       "array(['SMITH A O CORP'], dtype=object)"
      ]
     },
     "metadata": {},
     "output_type": "display_data"
    },
    {
     "name": "stdout",
     "output_type": "stream",
     "text": [
      "55212.0\n"
     ]
    },
    {
     "data": {
      "text/plain": [
       "array(['S P X CORP', 'SEALED POWER CORP'], dtype=object)"
      ]
     },
     "metadata": {},
     "output_type": "display_data"
    },
    {
     "name": "stdout",
     "output_type": "stream",
     "text": [
      "47467.0\n"
     ]
    },
    {
     "data": {
      "text/plain": [
       "array(['KENT MOORE CORP'], dtype=object)"
      ]
     },
     "metadata": {},
     "output_type": "display_data"
    },
    {
     "name": "stdout",
     "output_type": "stream",
     "text": [
      "20765.0\n"
     ]
    },
    {
     "data": {
      "text/plain": [
       "array(['GENCORP INC', 'GENERAL TIRE & RUBR CO'], dtype=object)"
      ]
     },
     "metadata": {},
     "output_type": "display_data"
    },
    {
     "name": "stdout",
     "output_type": "stream",
     "text": [
      "70578.0\n"
     ]
    },
    {
     "data": {
      "text/plain": [
       "array(['ECOLAB INC', 'ECONOMICS LAB INC'], dtype=object)"
      ]
     },
     "metadata": {},
     "output_type": "display_data"
    },
    {
     "name": "stdout",
     "output_type": "stream",
     "text": [
      "78404.0\n"
     ]
    },
    {
     "data": {
      "text/plain": [
       "array(['BIO LOGICALS INC ENS', 'ENSCOR INC', 'ROSE CORP'], dtype=object)"
      ]
     },
     "metadata": {},
     "output_type": "display_data"
    },
    {
     "name": "stdout",
     "output_type": "stream",
     "text": [
      "37102.0\n"
     ]
    },
    {
     "data": {
      "text/plain": [
       "array(['SYNTEX CORP'], dtype=object)"
      ]
     },
     "metadata": {},
     "output_type": "display_data"
    },
    {
     "name": "stdout",
     "output_type": "stream",
     "text": [
      "89831.0\n"
     ]
    },
    {
     "data": {
      "text/plain": [
       "array([], dtype=object)"
      ]
     },
     "metadata": {},
     "output_type": "display_data"
    },
    {
     "name": "stdout",
     "output_type": "stream",
     "text": [
      "76448.0\n"
     ]
    },
    {
     "data": {
      "text/plain": [
       "array(['THREE FIVE SYSTEMS INC'], dtype=object)"
      ]
     },
     "metadata": {},
     "output_type": "display_data"
    },
    {
     "name": "stdout",
     "output_type": "stream",
     "text": [
      "56573.0\n"
     ]
    },
    {
     "data": {
      "text/plain": [
       "array(['ILLINOIS TOOL WORKS INC'], dtype=object)"
      ]
     },
     "metadata": {},
     "output_type": "display_data"
    },
    {
     "name": "stdout",
     "output_type": "stream",
     "text": [
      "29970.0\n"
     ]
    },
    {
     "data": {
      "text/plain": [
       "array(['BUELL INDUSTRIES INC'], dtype=object)"
      ]
     },
     "metadata": {},
     "output_type": "display_data"
    },
    {
     "name": "stdout",
     "output_type": "stream",
     "text": [
      "25654.0\n"
     ]
    },
    {
     "data": {
      "text/plain": [
       "array(['SIGNODE CORP', 'SIGNODE STL STRAPPING CO'], dtype=object)"
      ]
     },
     "metadata": {},
     "output_type": "display_data"
    },
    {
     "name": "stdout",
     "output_type": "stream",
     "text": [
      "50383.0\n"
     ]
    },
    {
     "data": {
      "text/plain": [
       "array(['M B ASSOCIATES'], dtype=object)"
      ]
     },
     "metadata": {},
     "output_type": "display_data"
    },
    {
     "name": "stdout",
     "output_type": "stream",
     "text": [
      "57234.0\n"
     ]
    },
    {
     "data": {
      "text/plain": [
       "array(['TRACOR INC'], dtype=object)"
      ]
     },
     "metadata": {},
     "output_type": "display_data"
    },
    {
     "name": "stdout",
     "output_type": "stream",
     "text": [
      "40142.0\n"
     ]
    },
    {
     "data": {
      "text/plain": [
       "array(['COLEMAN CABLE & WIRE CO', 'GROMAN CORP'], dtype=object)"
      ]
     },
     "metadata": {},
     "output_type": "display_data"
    },
    {
     "name": "stdout",
     "output_type": "stream",
     "text": [
      "55327.0\n"
     ]
    },
    {
     "data": {
      "text/plain": [
       "array(['RISDON MANUFACTURING CO'], dtype=object)"
      ]
     },
     "metadata": {},
     "output_type": "display_data"
    },
    {
     "name": "stdout",
     "output_type": "stream",
     "text": [
      "76208.0\n"
     ]
    },
    {
     "data": {
      "text/plain": [
       "array(['TRIMARK HOLDINGS INC', 'VIDMARK INC'], dtype=object)"
      ]
     },
     "metadata": {},
     "output_type": "display_data"
    },
    {
     "name": "stdout",
     "output_type": "stream",
     "text": [
      "87131.0\n"
     ]
    },
    {
     "data": {
      "text/plain": [
       "array(['KNIGHT TRADING GROUP INC', 'KNIGHT TRIMARK GROUP INC',\n",
       "       'KNIGHT TRIMARK GROUP INC NEW'], dtype=object)"
      ]
     },
     "metadata": {},
     "output_type": "display_data"
    },
    {
     "name": "stdout",
     "output_type": "stream",
     "text": [
      "48434.0\n"
     ]
    },
    {
     "data": {
      "text/plain": [
       "array(['IDEAL TOY CORP'], dtype=object)"
      ]
     },
     "metadata": {},
     "output_type": "display_data"
    },
    {
     "name": "stdout",
     "output_type": "stream",
     "text": [
      "80793.0\n"
     ]
    },
    {
     "data": {
      "text/plain": [
       "array(['VIEW MASTER IDEAL GROUP INC', 'VIEW MASTER INTL GROUP INC'],\n",
       "      dtype=object)"
      ]
     },
     "metadata": {},
     "output_type": "display_data"
    },
    {
     "name": "stdout",
     "output_type": "stream",
     "text": [
      "86426.0\n"
     ]
    },
    {
     "data": {
      "text/plain": [
       "array(['GENZYME CORP'], dtype=object)"
      ]
     },
     "metadata": {},
     "output_type": "display_data"
    },
    {
     "name": "stdout",
     "output_type": "stream",
     "text": [
      "90860.0\n"
     ]
    },
    {
     "data": {
      "text/plain": [
       "array([], dtype=object)"
      ]
     },
     "metadata": {},
     "output_type": "display_data"
    },
    {
     "name": "stdout",
     "output_type": "stream",
     "text": [
      "75233.0\n"
     ]
    },
    {
     "data": {
      "text/plain": [
       "array(['BROOKE GROUP LTD', 'LIGGETT GROUP INC NEW', 'VECTOR GROUP LTD'],\n",
       "      dtype=object)"
      ]
     },
     "metadata": {},
     "output_type": "display_data"
    },
    {
     "name": "stdout",
     "output_type": "stream",
     "text": [
      "12277.0\n"
     ]
    },
    {
     "data": {
      "text/plain": [
       "array(['VECTOR AEROMOTIVE CORP'], dtype=object)"
      ]
     },
     "metadata": {},
     "output_type": "display_data"
    },
    {
     "name": "stdout",
     "output_type": "stream",
     "text": [
      "11955.0\n"
     ]
    },
    {
     "data": {
      "text/plain": [
       "array(['U S A WASTE SERVICES INC', 'WASTE MANAGEMENT INC DEL'],\n",
       "      dtype=object)"
      ]
     },
     "metadata": {},
     "output_type": "display_data"
    },
    {
     "name": "stdout",
     "output_type": "stream",
     "text": [
      "57381.0\n"
     ]
    },
    {
     "data": {
      "text/plain": [
       "array(['W M X TECHNOLOGIES INC', 'WASTE MANAGEMENT INC',\n",
       "       'WASTE MANAGEMENT INC NEW'], dtype=object)"
      ]
     },
     "metadata": {},
     "output_type": "display_data"
    },
    {
     "name": "stdout",
     "output_type": "stream",
     "text": [
      "81681.0\n"
     ]
    },
    {
     "data": {
      "text/plain": [
       "array(['WATERS ASSOCIATES INC'], dtype=object)"
      ]
     },
     "metadata": {},
     "output_type": "display_data"
    },
    {
     "name": "stdout",
     "output_type": "stream",
     "text": [
      "82651.0\n"
     ]
    },
    {
     "data": {
      "text/plain": [
       "array(['WATERS CORP'], dtype=object)"
      ]
     },
     "metadata": {},
     "output_type": "display_data"
    },
    {
     "name": "stdout",
     "output_type": "stream",
     "text": [
      "77463.0\n"
     ]
    },
    {
     "data": {
      "text/plain": [
       "array(['T J INTERNATIONAL INC', 'TRUS JOIST CORP'], dtype=object)"
      ]
     },
     "metadata": {},
     "output_type": "display_data"
    },
    {
     "name": "stdout",
     "output_type": "stream",
     "text": [
      "39917.0\n"
     ]
    },
    {
     "data": {
      "text/plain": [
       "array(['WEYERHAEUSER CO'], dtype=object)"
      ]
     },
     "metadata": {},
     "output_type": "display_data"
    },
    {
     "name": "stdout",
     "output_type": "stream",
     "text": [
      "82991.0\n"
     ]
    },
    {
     "data": {
      "text/plain": [
       "array(['WILLIAMS INDUSTRIES INC'], dtype=object)"
      ]
     },
     "metadata": {},
     "output_type": "display_data"
    },
    {
     "name": "stdout",
     "output_type": "stream",
     "text": [
      "80952.0\n"
     ]
    },
    {
     "data": {
      "text/plain": [
       "array(['TIVOLI INDUSTRIES INC'], dtype=object)"
      ]
     },
     "metadata": {},
     "output_type": "display_data"
    },
    {
     "name": "stdout",
     "output_type": "stream",
     "text": [
      "85908.0\n"
     ]
    },
    {
     "data": {
      "text/plain": [
       "array(['GRACE W R & CO DEL NEW'], dtype=object)"
      ]
     },
     "metadata": {},
     "output_type": "display_data"
    },
    {
     "name": "stdout",
     "output_type": "stream",
     "text": [
      "25005.0\n"
     ]
    },
    {
     "data": {
      "text/plain": [
       "array(['GRACE W R & CO'], dtype=object)"
      ]
     },
     "metadata": {},
     "output_type": "display_data"
    }
   ],
   "source": [
    "for i in crosswalk_final_one_comp_multiple_permno['permno'].values:\n",
    "    print(i)\n",
    "    display(crsp_directory[crsp_directory['PERMNO'] == i]['NAME OF FIRM'].values)"
   ]
  },
  {
   "cell_type": "code",
   "execution_count": 23,
   "metadata": {},
   "outputs": [],
   "source": [
    "temp = pd.read_csv(\"crosswalk_final_one_comp_multiple_permno_resolved.csv\")\n",
    "crosswalk_final = crosswalk_final_one_on_one.append(temp)"
   ]
  },
  {
   "cell_type": "code",
   "execution_count": 24,
   "metadata": {},
   "outputs": [],
   "source": [
    "crosswalk_final = crosswalk_final.drop_duplicates(['name_0', 'permno'])"
   ]
  },
  {
   "cell_type": "code",
   "execution_count": 25,
   "metadata": {},
   "outputs": [],
   "source": [
    "#link first patent assignments with raw patent records with duplicated patent ids"
   ]
  },
  {
   "cell_type": "code",
   "execution_count": 26,
   "metadata": {},
   "outputs": [],
   "source": [
    "crosswalk_2 = pd.merge(rawpatents_duplicated, firstpatentassignments, how= 'inner')"
   ]
  },
  {
   "cell_type": "code",
   "execution_count": 27,
   "metadata": {},
   "outputs": [],
   "source": [
    "crosswalk_final['name_0'] = crosswalk_final['name_0'].astype(str)\n",
    "crosswalk_2['name_0'] = crosswalk_2['name_0'].astype(str)"
   ]
  },
  {
   "cell_type": "code",
   "execution_count": 28,
   "metadata": {},
   "outputs": [],
   "source": [
    "crosswalk_2 = crosswalk_2[~crosswalk_2['name_0'].isin(np.unique(crosswalk_final['name_0'].values))]"
   ]
  },
  {
   "cell_type": "code",
   "execution_count": 29,
   "metadata": {},
   "outputs": [],
   "source": [
    "crosswalk_2 = crosswalk_2[~crosswalk_2['permno'].isin(np.unique(crosswalk_final['permno'].values))]"
   ]
  },
  {
   "cell_type": "code",
   "execution_count": 30,
   "metadata": {},
   "outputs": [],
   "source": [
    "crosswalk_2 = crosswalk_2[['name_0', 'permno', 'recorded_date', 'patent_ids']]"
   ]
  },
  {
   "cell_type": "code",
   "execution_count": 31,
   "metadata": {},
   "outputs": [],
   "source": [
    "crosswalk_2 = crosswalk_2.drop_duplicates(['name_0', 'permno'])"
   ]
  },
  {
   "cell_type": "code",
   "execution_count": 32,
   "metadata": {},
   "outputs": [],
   "source": [
    "#resolve one company name but multiple permnos\n",
    "#drop all entries\n",
    "crosswalk_2 = crosswalk_2.drop_duplicates(['name_0'], keep = False)\n",
    "duplicated_companynames = np.unique(crosswalk_2['name_0'][crosswalk_2['name_0'].duplicated()].values)"
   ]
  },
  {
   "cell_type": "code",
   "execution_count": 33,
   "metadata": {},
   "outputs": [],
   "source": [
    "#resolve one permno but multiple company names\n",
    "duplicated_permnos = np.unique(crosswalk_2['permno'][crosswalk_2['permno'].duplicated()].values)\n",
    "crosswalk_2_one_on = crosswalk_2[~crosswalk_2['permno'].isin(duplicated_permnos)]\n",
    "crosswalk_2_multiple_on_one =crosswalk_2[crosswalk_2['permno'].isin(duplicated_permnos)]"
   ]
  },
  {
   "cell_type": "code",
   "execution_count": 34,
   "metadata": {},
   "outputs": [],
   "source": [
    "#resolve one company name but multiple permnos\n",
    "#drop the cases due to multiple patent ids \n",
    "crosswalk_final_2 = pd.DataFrame()\n",
    "for i in duplicated_permnos:\n",
    "    temp = crosswalk_2_multiple_on_one[crosswalk_2_multiple_on_one['permno'] == i]\n",
    "    temp = temp.drop_duplicates(subset = ['name_0'], keep = 'first')\n",
    "    try:\n",
    "        matches = match_strings(temp['name_0'])\n",
    "    except ValueError:\n",
    "        print(\"only stop words\")\n",
    "        continue\n",
    "    matches = matches[matches['left_side'] != matches['right_side']]\n",
    "    if matches.empty:\n",
    "        continue\n",
    "    name = matches['left_side'].value_counts().keys()[0]\n",
    "    crosswalk_final_2 = crosswalk_final_2.append(temp[temp['name_0'] == name])"
   ]
  },
  {
   "cell_type": "code",
   "execution_count": 35,
   "metadata": {},
   "outputs": [],
   "source": [
    "crosswalk_2 = crosswalk_2_one_on.append(crosswalk_final_2)"
   ]
  },
  {
   "cell_type": "code",
   "execution_count": 36,
   "metadata": {},
   "outputs": [
    {
     "data": {
      "text/html": [
       "<div>\n",
       "<style scoped>\n",
       "    .dataframe tbody tr th:only-of-type {\n",
       "        vertical-align: middle;\n",
       "    }\n",
       "\n",
       "    .dataframe tbody tr th {\n",
       "        vertical-align: top;\n",
       "    }\n",
       "\n",
       "    .dataframe thead th {\n",
       "        text-align: right;\n",
       "    }\n",
       "</style>\n",
       "<table border=\"1\" class=\"dataframe\">\n",
       "  <thead>\n",
       "    <tr style=\"text-align: right;\">\n",
       "      <th></th>\n",
       "      <th>name_0</th>\n",
       "      <th>permno</th>\n",
       "      <th>recorded_date</th>\n",
       "      <th>patent_ids</th>\n",
       "    </tr>\n",
       "  </thead>\n",
       "  <tbody>\n",
       "    <tr>\n",
       "      <th>970918</th>\n",
       "      <td>3 m innovative</td>\n",
       "      <td>22592.0</td>\n",
       "      <td>20040130</td>\n",
       "      <td>7295654</td>\n",
       "    </tr>\n",
       "    <tr>\n",
       "      <th>0</th>\n",
       "      <td>3m innovative</td>\n",
       "      <td>22592.0</td>\n",
       "      <td>19990401</td>\n",
       "      <td>6428933</td>\n",
       "    </tr>\n",
       "    <tr>\n",
       "      <th>329213</th>\n",
       "      <td>marathon ashland petroleum</td>\n",
       "      <td>24272.0</td>\n",
       "      <td>19980406</td>\n",
       "      <td>5961709</td>\n",
       "    </tr>\n",
       "    <tr>\n",
       "      <th>5</th>\n",
       "      <td>ashland licensing intellectual property</td>\n",
       "      <td>24272.0</td>\n",
       "      <td>20050817</td>\n",
       "      <td>6342543</td>\n",
       "    </tr>\n",
       "    <tr>\n",
       "      <th>141736</th>\n",
       "      <td>regalbeloit</td>\n",
       "      <td>58771.0</td>\n",
       "      <td>19950703</td>\n",
       "      <td>5476164</td>\n",
       "    </tr>\n",
       "    <tr>\n",
       "      <th>42</th>\n",
       "      <td>regal beloit</td>\n",
       "      <td>58771.0</td>\n",
       "      <td>20061204</td>\n",
       "      <td>7482770</td>\n",
       "    </tr>\n",
       "    <tr>\n",
       "      <th>803164</th>\n",
       "      <td>advanced microdevices</td>\n",
       "      <td>61241.0</td>\n",
       "      <td>20011231</td>\n",
       "      <td>6970758</td>\n",
       "    </tr>\n",
       "    <tr>\n",
       "      <th>1</th>\n",
       "      <td>advanced micro devices</td>\n",
       "      <td>61241.0</td>\n",
       "      <td>19930330</td>\n",
       "      <td>5381037</td>\n",
       "    </tr>\n",
       "    <tr>\n",
       "      <th>1193277</th>\n",
       "      <td>boston scientific scimed</td>\n",
       "      <td>77605.0</td>\n",
       "      <td>20050108</td>\n",
       "      <td>7776033</td>\n",
       "    </tr>\n",
       "    <tr>\n",
       "      <th>6</th>\n",
       "      <td>boston scientific</td>\n",
       "      <td>77605.0</td>\n",
       "      <td>19930607</td>\n",
       "      <td>5401257</td>\n",
       "    </tr>\n",
       "    <tr>\n",
       "      <th>947415</th>\n",
       "      <td>electronics imag</td>\n",
       "      <td>77971.0</td>\n",
       "      <td>20040227</td>\n",
       "      <td>7248752</td>\n",
       "    </tr>\n",
       "    <tr>\n",
       "      <th>11</th>\n",
       "      <td>electronics imaging</td>\n",
       "      <td>77971.0</td>\n",
       "      <td>19940202</td>\n",
       "      <td>5543940</td>\n",
       "    </tr>\n",
       "    <tr>\n",
       "      <th>542921</th>\n",
       "      <td>silicon ware precision</td>\n",
       "      <td>88645.0</td>\n",
       "      <td>20001027</td>\n",
       "      <td>6437447</td>\n",
       "    </tr>\n",
       "    <tr>\n",
       "      <th>45</th>\n",
       "      <td>siliconware precision</td>\n",
       "      <td>88645.0</td>\n",
       "      <td>19980120</td>\n",
       "      <td>6191490</td>\n",
       "    </tr>\n",
       "  </tbody>\n",
       "</table>\n",
       "</div>"
      ],
      "text/plain": [
       "                                          name_0   permno  recorded_date  \\\n",
       "970918                            3 m innovative  22592.0       20040130   \n",
       "0                                  3m innovative  22592.0       19990401   \n",
       "329213                marathon ashland petroleum  24272.0       19980406   \n",
       "5        ashland licensing intellectual property  24272.0       20050817   \n",
       "141736                               regalbeloit  58771.0       19950703   \n",
       "42                                  regal beloit  58771.0       20061204   \n",
       "803164                     advanced microdevices  61241.0       20011231   \n",
       "1                         advanced micro devices  61241.0       19930330   \n",
       "1193277                 boston scientific scimed  77605.0       20050108   \n",
       "6                              boston scientific  77605.0       19930607   \n",
       "947415                          electronics imag  77971.0       20040227   \n",
       "11                           electronics imaging  77971.0       19940202   \n",
       "542921                    silicon ware precision  88645.0       20001027   \n",
       "45                         siliconware precision  88645.0       19980120   \n",
       "\n",
       "        patent_ids  \n",
       "970918     7295654  \n",
       "0          6428933  \n",
       "329213     5961709  \n",
       "5          6342543  \n",
       "141736     5476164  \n",
       "42         7482770  \n",
       "803164     6970758  \n",
       "1          5381037  \n",
       "1193277    7776033  \n",
       "6          5401257  \n",
       "947415     7248752  \n",
       "11         5543940  \n",
       "542921     6437447  \n",
       "45         6191490  "
      ]
     },
     "execution_count": 36,
     "metadata": {},
     "output_type": "execute_result"
    }
   ],
   "source": [
    "#Check final crosswalk\n",
    "crosswalk_final = pd.concat([crosswalk_final, crosswalk_2])\n",
    "crosswalk_final[crosswalk_final['permno'].duplicated(keep = False)].sort_values(['permno'])"
   ]
  },
  {
   "cell_type": "code",
   "execution_count": 42,
   "metadata": {},
   "outputs": [
    {
     "data": {
      "text/html": [
       "<div>\n",
       "<style scoped>\n",
       "    .dataframe tbody tr th:only-of-type {\n",
       "        vertical-align: middle;\n",
       "    }\n",
       "\n",
       "    .dataframe tbody tr th {\n",
       "        vertical-align: top;\n",
       "    }\n",
       "\n",
       "    .dataframe thead th {\n",
       "        text-align: right;\n",
       "    }\n",
       "</style>\n",
       "<table border=\"1\" class=\"dataframe\">\n",
       "  <thead>\n",
       "    <tr style=\"text-align: right;\">\n",
       "      <th></th>\n",
       "      <th>name_0</th>\n",
       "      <th>permno</th>\n",
       "      <th>recorded_date</th>\n",
       "      <th>patent_ids</th>\n",
       "    </tr>\n",
       "  </thead>\n",
       "  <tbody>\n",
       "    <tr>\n",
       "      <th>931871</th>\n",
       "      <td>advanced micro devices</td>\n",
       "      <td>91029.0</td>\n",
       "      <td>20010313</td>\n",
       "      <td>7217652</td>\n",
       "    </tr>\n",
       "    <tr>\n",
       "      <th>1</th>\n",
       "      <td>advanced micro devices</td>\n",
       "      <td>61241.0</td>\n",
       "      <td>19930330</td>\n",
       "      <td>5381037</td>\n",
       "    </tr>\n",
       "    <tr>\n",
       "      <th>27146</th>\n",
       "      <td>ashland licensing intellectual property</td>\n",
       "      <td>67361.0</td>\n",
       "      <td>20050817</td>\n",
       "      <td>4588637</td>\n",
       "    </tr>\n",
       "    <tr>\n",
       "      <th>5</th>\n",
       "      <td>ashland licensing intellectual property</td>\n",
       "      <td>24272.0</td>\n",
       "      <td>20050817</td>\n",
       "      <td>6342543</td>\n",
       "    </tr>\n",
       "    <tr>\n",
       "      <th>95826</th>\n",
       "      <td>boston scientific</td>\n",
       "      <td>77380.0</td>\n",
       "      <td>20061031</td>\n",
       "      <td>5314407</td>\n",
       "    </tr>\n",
       "    <tr>\n",
       "      <th>6</th>\n",
       "      <td>boston scientific</td>\n",
       "      <td>77605.0</td>\n",
       "      <td>19930607</td>\n",
       "      <td>5401257</td>\n",
       "    </tr>\n",
       "    <tr>\n",
       "      <th>51953</th>\n",
       "      <td>electronics imaging</td>\n",
       "      <td>78589.0</td>\n",
       "      <td>19991216</td>\n",
       "      <td>4917488</td>\n",
       "    </tr>\n",
       "    <tr>\n",
       "      <th>11</th>\n",
       "      <td>electronics imaging</td>\n",
       "      <td>77971.0</td>\n",
       "      <td>19940202</td>\n",
       "      <td>5543940</td>\n",
       "    </tr>\n",
       "    <tr>\n",
       "      <th>21</th>\n",
       "      <td>hei</td>\n",
       "      <td>32678.0</td>\n",
       "      <td>20050214</td>\n",
       "      <td>7334984</td>\n",
       "    </tr>\n",
       "    <tr>\n",
       "      <th>20</th>\n",
       "      <td>hei</td>\n",
       "      <td>40540.0</td>\n",
       "      <td>19951013</td>\n",
       "      <td>5847930</td>\n",
       "    </tr>\n",
       "    <tr>\n",
       "      <th>24</th>\n",
       "      <td>insight</td>\n",
       "      <td>87110.0</td>\n",
       "      <td>19990709</td>\n",
       "      <td>6070350</td>\n",
       "    </tr>\n",
       "    <tr>\n",
       "      <th>22</th>\n",
       "      <td>insight</td>\n",
       "      <td>81220.0</td>\n",
       "      <td>19970106</td>\n",
       "      <td>5823344</td>\n",
       "    </tr>\n",
       "    <tr>\n",
       "      <th>23</th>\n",
       "      <td>insight</td>\n",
       "      <td>76001.0</td>\n",
       "      <td>19940401</td>\n",
       "      <td>5544741</td>\n",
       "    </tr>\n",
       "    <tr>\n",
       "      <th>26</th>\n",
       "      <td>itc</td>\n",
       "      <td>88939.0</td>\n",
       "      <td>19950831</td>\n",
       "      <td>5615631</td>\n",
       "    </tr>\n",
       "    <tr>\n",
       "      <th>27</th>\n",
       "      <td>itc</td>\n",
       "      <td>85473.0</td>\n",
       "      <td>20000615</td>\n",
       "      <td>6454439</td>\n",
       "    </tr>\n",
       "    <tr>\n",
       "      <th>30</th>\n",
       "      <td>l3 communications</td>\n",
       "      <td>86021.0</td>\n",
       "      <td>19971010</td>\n",
       "      <td>5825835</td>\n",
       "    </tr>\n",
       "    <tr>\n",
       "      <th>89259</th>\n",
       "      <td>l3 communications</td>\n",
       "      <td>12005.0</td>\n",
       "      <td>20110717</td>\n",
       "      <td>5274382</td>\n",
       "    </tr>\n",
       "    <tr>\n",
       "      <th>32</th>\n",
       "      <td>noble</td>\n",
       "      <td>90537.0</td>\n",
       "      <td>20030425</td>\n",
       "      <td>7044239</td>\n",
       "    </tr>\n",
       "    <tr>\n",
       "      <th>33</th>\n",
       "      <td>noble</td>\n",
       "      <td>85622.0</td>\n",
       "      <td>20061016</td>\n",
       "      <td>7325435</td>\n",
       "    </tr>\n",
       "    <tr>\n",
       "      <th>381763</th>\n",
       "      <td>siliconware precision</td>\n",
       "      <td>88375.0</td>\n",
       "      <td>19990205</td>\n",
       "      <td>6083775</td>\n",
       "    </tr>\n",
       "    <tr>\n",
       "      <th>45</th>\n",
       "      <td>siliconware precision</td>\n",
       "      <td>88645.0</td>\n",
       "      <td>19980120</td>\n",
       "      <td>6191490</td>\n",
       "    </tr>\n",
       "    <tr>\n",
       "      <th>47</th>\n",
       "      <td>smith</td>\n",
       "      <td>19852.0</td>\n",
       "      <td>19930830</td>\n",
       "      <td>5398397</td>\n",
       "    </tr>\n",
       "    <tr>\n",
       "      <th>48</th>\n",
       "      <td>smith</td>\n",
       "      <td>65402.0</td>\n",
       "      <td>19990910</td>\n",
       "      <td>6071459</td>\n",
       "    </tr>\n",
       "    <tr>\n",
       "      <th>52</th>\n",
       "      <td>waste</td>\n",
       "      <td>11955.0</td>\n",
       "      <td>20050128</td>\n",
       "      <td>7387163</td>\n",
       "    </tr>\n",
       "    <tr>\n",
       "      <th>53</th>\n",
       "      <td>waste</td>\n",
       "      <td>57381.0</td>\n",
       "      <td>19961028</td>\n",
       "      <td>5753494</td>\n",
       "    </tr>\n",
       "    <tr>\n",
       "      <th>55</th>\n",
       "      <td>waters investments</td>\n",
       "      <td>81681.0</td>\n",
       "      <td>19940217</td>\n",
       "      <td>4283140</td>\n",
       "    </tr>\n",
       "    <tr>\n",
       "      <th>54</th>\n",
       "      <td>waters investments</td>\n",
       "      <td>82651.0</td>\n",
       "      <td>20060209</td>\n",
       "      <td>6790361</td>\n",
       "    </tr>\n",
       "    <tr>\n",
       "      <th>123506</th>\n",
       "      <td>wr grace coconn</td>\n",
       "      <td>14809.0</td>\n",
       "      <td>19960307</td>\n",
       "      <td>5422366</td>\n",
       "    </tr>\n",
       "    <tr>\n",
       "      <th>58</th>\n",
       "      <td>wr grace coconn</td>\n",
       "      <td>85908.0</td>\n",
       "      <td>19930923</td>\n",
       "      <td>5899048</td>\n",
       "    </tr>\n",
       "  </tbody>\n",
       "</table>\n",
       "</div>"
      ],
      "text/plain": [
       "                                         name_0   permno  recorded_date  \\\n",
       "931871                   advanced micro devices  91029.0       20010313   \n",
       "1                        advanced micro devices  61241.0       19930330   \n",
       "27146   ashland licensing intellectual property  67361.0       20050817   \n",
       "5       ashland licensing intellectual property  24272.0       20050817   \n",
       "95826                         boston scientific  77380.0       20061031   \n",
       "6                             boston scientific  77605.0       19930607   \n",
       "51953                       electronics imaging  78589.0       19991216   \n",
       "11                          electronics imaging  77971.0       19940202   \n",
       "21                                          hei  32678.0       20050214   \n",
       "20                                          hei  40540.0       19951013   \n",
       "24                                      insight  87110.0       19990709   \n",
       "22                                      insight  81220.0       19970106   \n",
       "23                                      insight  76001.0       19940401   \n",
       "26                                          itc  88939.0       19950831   \n",
       "27                                          itc  85473.0       20000615   \n",
       "30                            l3 communications  86021.0       19971010   \n",
       "89259                         l3 communications  12005.0       20110717   \n",
       "32                                        noble  90537.0       20030425   \n",
       "33                                        noble  85622.0       20061016   \n",
       "381763                    siliconware precision  88375.0       19990205   \n",
       "45                        siliconware precision  88645.0       19980120   \n",
       "47                                        smith  19852.0       19930830   \n",
       "48                                        smith  65402.0       19990910   \n",
       "52                                        waste  11955.0       20050128   \n",
       "53                                        waste  57381.0       19961028   \n",
       "55                           waters investments  81681.0       19940217   \n",
       "54                           waters investments  82651.0       20060209   \n",
       "123506                          wr grace coconn  14809.0       19960307   \n",
       "58                              wr grace coconn  85908.0       19930923   \n",
       "\n",
       "       patent_ids  \n",
       "931871    7217652  \n",
       "1         5381037  \n",
       "27146     4588637  \n",
       "5         6342543  \n",
       "95826     5314407  \n",
       "6         5401257  \n",
       "51953     4917488  \n",
       "11        5543940  \n",
       "21        7334984  \n",
       "20        5847930  \n",
       "24        6070350  \n",
       "22        5823344  \n",
       "23        5544741  \n",
       "26        5615631  \n",
       "27        6454439  \n",
       "30        5825835  \n",
       "89259     5274382  \n",
       "32        7044239  \n",
       "33        7325435  \n",
       "381763    6083775  \n",
       "45        6191490  \n",
       "47        5398397  \n",
       "48        6071459  \n",
       "52        7387163  \n",
       "53        5753494  \n",
       "55        4283140  \n",
       "54        6790361  \n",
       "123506    5422366  \n",
       "58        5899048  "
      ]
     },
     "execution_count": 42,
     "metadata": {},
     "output_type": "execute_result"
    }
   ],
   "source": [
    "#old records are not kept\n",
    "#check these companies indeed have multipe permnos\n",
    "crosswalk_final[crosswalk_final['name_0'].duplicated(keep = False)].sort_values(['name_0'])\n"
   ]
  },
  {
   "cell_type": "code",
   "execution_count": 46,
   "metadata": {},
   "outputs": [
    {
     "data": {
      "text/plain": [
       "'hei'"
      ]
     },
     "execution_count": 46,
     "metadata": {},
     "output_type": "execute_result"
    }
   ],
   "source": [
    "crosswalk_final.loc[21, 'name_0'] = 'heico'"
   ]
  },
  {
   "cell_type": "code",
   "execution_count": 47,
   "metadata": {},
   "outputs": [
    {
     "ename": "KeyError",
     "evalue": "'[30930] not found in axis'",
     "output_type": "error",
     "traceback": [
      "\u001b[1;31m---------------------------------------------------------------------------\u001b[0m",
      "\u001b[1;31mKeyError\u001b[0m                                  Traceback (most recent call last)",
      "\u001b[1;32m<ipython-input-47-b4f83eabf8a8>\u001b[0m in \u001b[0;36m<module>\u001b[1;34m\u001b[0m\n\u001b[1;32m----> 1\u001b[1;33m \u001b[0mcrosswalk_final\u001b[0m \u001b[1;33m=\u001b[0m \u001b[0mcrosswalk_final\u001b[0m\u001b[1;33m.\u001b[0m\u001b[0mdrop\u001b[0m\u001b[1;33m(\u001b[0m\u001b[1;33m[\u001b[0m\u001b[1;36m30930\u001b[0m\u001b[1;33m]\u001b[0m\u001b[1;33m)\u001b[0m\u001b[1;33m\u001b[0m\u001b[1;33m\u001b[0m\u001b[0m\n\u001b[0m\u001b[0;32m      2\u001b[0m \u001b[0mcrosswalk_final\u001b[0m \u001b[1;33m=\u001b[0m \u001b[0mcrosswalk_final\u001b[0m\u001b[1;33m.\u001b[0m\u001b[0mdrop\u001b[0m\u001b[1;33m(\u001b[0m\u001b[1;33m[\u001b[0m\u001b[1;36m931871\u001b[0m\u001b[1;33m]\u001b[0m\u001b[1;33m)\u001b[0m\u001b[1;33m\u001b[0m\u001b[1;33m\u001b[0m\u001b[0m\n\u001b[0;32m      3\u001b[0m \u001b[0mcrosswalk_final\u001b[0m \u001b[1;33m=\u001b[0m \u001b[0mcrosswalk_final\u001b[0m\u001b[1;33m.\u001b[0m\u001b[0mdrop\u001b[0m\u001b[1;33m(\u001b[0m\u001b[1;33m[\u001b[0m\u001b[1;36m95826\u001b[0m\u001b[1;33m]\u001b[0m\u001b[1;33m)\u001b[0m\u001b[1;33m\u001b[0m\u001b[1;33m\u001b[0m\u001b[0m\n\u001b[0;32m      4\u001b[0m \u001b[0mcrosswalk_final\u001b[0m \u001b[1;33m=\u001b[0m \u001b[0mcrosswalk_final\u001b[0m\u001b[1;33m.\u001b[0m\u001b[0mdrop\u001b[0m\u001b[1;33m(\u001b[0m\u001b[1;33m[\u001b[0m\u001b[1;36m30\u001b[0m\u001b[1;33m]\u001b[0m\u001b[1;33m)\u001b[0m\u001b[1;33m\u001b[0m\u001b[1;33m\u001b[0m\u001b[0m\n\u001b[0;32m      5\u001b[0m \u001b[0mcrosswalk_final\u001b[0m \u001b[1;33m=\u001b[0m \u001b[0mcrosswalk_final\u001b[0m\u001b[1;33m.\u001b[0m\u001b[0mdrop\u001b[0m\u001b[1;33m(\u001b[0m\u001b[1;33m[\u001b[0m\u001b[1;36m89259\u001b[0m\u001b[1;33m]\u001b[0m\u001b[1;33m)\u001b[0m\u001b[1;33m\u001b[0m\u001b[1;33m\u001b[0m\u001b[0m\n",
      "\u001b[1;32m~\\anaconda3\\lib\\site-packages\\pandas\\core\\frame.py\u001b[0m in \u001b[0;36mdrop\u001b[1;34m(self, labels, axis, index, columns, level, inplace, errors)\u001b[0m\n\u001b[0;32m   3995\u001b[0m             \u001b[0mlevel\u001b[0m\u001b[1;33m=\u001b[0m\u001b[0mlevel\u001b[0m\u001b[1;33m,\u001b[0m\u001b[1;33m\u001b[0m\u001b[1;33m\u001b[0m\u001b[0m\n\u001b[0;32m   3996\u001b[0m             \u001b[0minplace\u001b[0m\u001b[1;33m=\u001b[0m\u001b[0minplace\u001b[0m\u001b[1;33m,\u001b[0m\u001b[1;33m\u001b[0m\u001b[1;33m\u001b[0m\u001b[0m\n\u001b[1;32m-> 3997\u001b[1;33m             \u001b[0merrors\u001b[0m\u001b[1;33m=\u001b[0m\u001b[0merrors\u001b[0m\u001b[1;33m,\u001b[0m\u001b[1;33m\u001b[0m\u001b[1;33m\u001b[0m\u001b[0m\n\u001b[0m\u001b[0;32m   3998\u001b[0m         )\n\u001b[0;32m   3999\u001b[0m \u001b[1;33m\u001b[0m\u001b[0m\n",
      "\u001b[1;32m~\\anaconda3\\lib\\site-packages\\pandas\\core\\generic.py\u001b[0m in \u001b[0;36mdrop\u001b[1;34m(self, labels, axis, index, columns, level, inplace, errors)\u001b[0m\n\u001b[0;32m   3934\u001b[0m         \u001b[1;32mfor\u001b[0m \u001b[0maxis\u001b[0m\u001b[1;33m,\u001b[0m \u001b[0mlabels\u001b[0m \u001b[1;32min\u001b[0m \u001b[0maxes\u001b[0m\u001b[1;33m.\u001b[0m\u001b[0mitems\u001b[0m\u001b[1;33m(\u001b[0m\u001b[1;33m)\u001b[0m\u001b[1;33m:\u001b[0m\u001b[1;33m\u001b[0m\u001b[1;33m\u001b[0m\u001b[0m\n\u001b[0;32m   3935\u001b[0m             \u001b[1;32mif\u001b[0m \u001b[0mlabels\u001b[0m \u001b[1;32mis\u001b[0m \u001b[1;32mnot\u001b[0m \u001b[1;32mNone\u001b[0m\u001b[1;33m:\u001b[0m\u001b[1;33m\u001b[0m\u001b[1;33m\u001b[0m\u001b[0m\n\u001b[1;32m-> 3936\u001b[1;33m                 \u001b[0mobj\u001b[0m \u001b[1;33m=\u001b[0m \u001b[0mobj\u001b[0m\u001b[1;33m.\u001b[0m\u001b[0m_drop_axis\u001b[0m\u001b[1;33m(\u001b[0m\u001b[0mlabels\u001b[0m\u001b[1;33m,\u001b[0m \u001b[0maxis\u001b[0m\u001b[1;33m,\u001b[0m \u001b[0mlevel\u001b[0m\u001b[1;33m=\u001b[0m\u001b[0mlevel\u001b[0m\u001b[1;33m,\u001b[0m \u001b[0merrors\u001b[0m\u001b[1;33m=\u001b[0m\u001b[0merrors\u001b[0m\u001b[1;33m)\u001b[0m\u001b[1;33m\u001b[0m\u001b[1;33m\u001b[0m\u001b[0m\n\u001b[0m\u001b[0;32m   3937\u001b[0m \u001b[1;33m\u001b[0m\u001b[0m\n\u001b[0;32m   3938\u001b[0m         \u001b[1;32mif\u001b[0m \u001b[0minplace\u001b[0m\u001b[1;33m:\u001b[0m\u001b[1;33m\u001b[0m\u001b[1;33m\u001b[0m\u001b[0m\n",
      "\u001b[1;32m~\\anaconda3\\lib\\site-packages\\pandas\\core\\generic.py\u001b[0m in \u001b[0;36m_drop_axis\u001b[1;34m(self, labels, axis, level, errors)\u001b[0m\n\u001b[0;32m   3987\u001b[0m                 \u001b[0mlabels_missing\u001b[0m \u001b[1;33m=\u001b[0m \u001b[1;33m(\u001b[0m\u001b[0maxis\u001b[0m\u001b[1;33m.\u001b[0m\u001b[0mget_indexer_for\u001b[0m\u001b[1;33m(\u001b[0m\u001b[0mlabels\u001b[0m\u001b[1;33m)\u001b[0m \u001b[1;33m==\u001b[0m \u001b[1;33m-\u001b[0m\u001b[1;36m1\u001b[0m\u001b[1;33m)\u001b[0m\u001b[1;33m.\u001b[0m\u001b[0many\u001b[0m\u001b[1;33m(\u001b[0m\u001b[1;33m)\u001b[0m\u001b[1;33m\u001b[0m\u001b[1;33m\u001b[0m\u001b[0m\n\u001b[0;32m   3988\u001b[0m                 \u001b[1;32mif\u001b[0m \u001b[0merrors\u001b[0m \u001b[1;33m==\u001b[0m \u001b[1;34m\"raise\"\u001b[0m \u001b[1;32mand\u001b[0m \u001b[0mlabels_missing\u001b[0m\u001b[1;33m:\u001b[0m\u001b[1;33m\u001b[0m\u001b[1;33m\u001b[0m\u001b[0m\n\u001b[1;32m-> 3989\u001b[1;33m                     \u001b[1;32mraise\u001b[0m \u001b[0mKeyError\u001b[0m\u001b[1;33m(\u001b[0m\u001b[1;34mf\"{labels} not found in axis\"\u001b[0m\u001b[1;33m)\u001b[0m\u001b[1;33m\u001b[0m\u001b[1;33m\u001b[0m\u001b[0m\n\u001b[0m\u001b[0;32m   3990\u001b[0m \u001b[1;33m\u001b[0m\u001b[0m\n\u001b[0;32m   3991\u001b[0m             \u001b[0mslicer\u001b[0m \u001b[1;33m=\u001b[0m \u001b[1;33m[\u001b[0m\u001b[0mslice\u001b[0m\u001b[1;33m(\u001b[0m\u001b[1;32mNone\u001b[0m\u001b[1;33m)\u001b[0m\u001b[1;33m]\u001b[0m \u001b[1;33m*\u001b[0m \u001b[0mself\u001b[0m\u001b[1;33m.\u001b[0m\u001b[0mndim\u001b[0m\u001b[1;33m\u001b[0m\u001b[1;33m\u001b[0m\u001b[0m\n",
      "\u001b[1;31mKeyError\u001b[0m: '[30930] not found in axis'"
     ]
    }
   ],
   "source": [
    "crosswalk_final = crosswalk_final.drop([30930])\n",
    "crosswalk_final = crosswalk_final.drop([931871])\n",
    "crosswalk_final = crosswalk_final.drop([95826])\n",
    "crosswalk_final = crosswalk_final.drop([30])\n",
    "crosswalk_final = crosswalk_final.drop([89259])"
   ]
  },
  {
   "cell_type": "code",
   "execution_count": 52,
   "metadata": {},
   "outputs": [],
   "source": [
    "crosswalk_final.to_csv(\"permno_processedfirstassignorname_crosswalk.csv\", index = False)"
   ]
  }
 ],
 "metadata": {
  "kernelspec": {
   "display_name": "Python 3",
   "language": "python",
   "name": "python3"
  },
  "language_info": {
   "codemirror_mode": {
    "name": "ipython",
    "version": 3
   },
   "file_extension": ".py",
   "mimetype": "text/x-python",
   "name": "python",
   "nbconvert_exporter": "python",
   "pygments_lexer": "ipython3",
   "version": "3.7.6"
  }
 },
 "nbformat": 4,
 "nbformat_minor": 4
}
