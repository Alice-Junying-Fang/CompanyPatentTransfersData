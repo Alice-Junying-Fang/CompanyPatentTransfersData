{
 "cells": [
  {
   "cell_type": "code",
   "execution_count": 1,
   "metadata": {},
   "outputs": [
    {
     "name": "stderr",
     "output_type": "stream",
     "text": [
      "C:\\Users\\fjying\\anaconda3\\lib\\site-packages\\fuzzywuzzy\\fuzz.py:11: UserWarning: Using slow pure-python SequenceMatcher. Install python-Levenshtein to remove this warning\n",
      "  warnings.warn('Using slow pure-python SequenceMatcher. Install python-Levenshtein to remove this warning')\n"
     ]
    }
   ],
   "source": [
    "import xml.etree.ElementTree as ET \n",
    "import pandas as pd\n",
    "import codecs\n",
    "import os\n",
    "import zipfile\n",
    "import math\n",
    "import numpy as np\n",
    "import glob\n",
    "from fuzzywuzzy import process\n",
    "from fuzzywuzzy import fuzz\n",
    "from joblib import Parallel, delayed"
   ]
  },
  {
   "cell_type": "code",
   "execution_count": 2,
   "metadata": {},
   "outputs": [],
   "source": [
    "#find all files of the specific type in the folder\n",
    "def filebrowser(ext=\"\"):\n",
    "    return [f for f in glob.glob(f\"*{ext}\")]"
   ]
  },
  {
   "cell_type": "code",
   "execution_count": 3,
   "metadata": {},
   "outputs": [],
   "source": [
    "os.chdir(\"C:\\\\Users\\\\fjying\\\\Desktop\\\\RA_Columbia\\\\patentparsing\\\\\" + \"input_2012\")"
   ]
  },
  {
   "cell_type": "code",
   "execution_count": 4,
   "metadata": {},
   "outputs": [
    {
     "data": {
      "text/plain": [
       "['ad20121231-01.zip',\n",
       " 'ad20121231-02.zip',\n",
       " 'ad20121231-03.zip',\n",
       " 'ad20121231-04.zip',\n",
       " 'ad20121231-05.zip',\n",
       " 'ad20121231-06.zip',\n",
       " 'ad20121231-07.zip',\n",
       " 'ad20121231-08.zip',\n",
       " 'ad20121231-09.zip',\n",
       " 'ad20121231-10.zip',\n",
       " 'ad20121231-11.zip',\n",
       " 'ad20121231-12.zip']"
      ]
     },
     "execution_count": 4,
     "metadata": {},
     "output_type": "execute_result"
    }
   ],
   "source": [
    "#07-09\n",
    "data_list = filebrowser('zip')\n",
    "data_list"
   ]
  },
  {
   "cell_type": "code",
   "execution_count": 5,
   "metadata": {},
   "outputs": [],
   "source": [
    "zf  = zipfile.ZipFile('ad20121231-01.zip', 'r')\n",
    "xml_names = zf.namelist()\n",
    "xmls = [zf.open(name) for name in xml_names]\n",
    "tree = ET.parse(xmls[0])\n",
    "root = tree.getroot()\n",
    "pas = root.findall('patent-assignments/patent-assignment')"
   ]
  },
  {
   "cell_type": "code",
   "execution_count": 6,
   "metadata": {},
   "outputs": [],
   "source": [
    "def parse_xml(pa):\n",
    "    # no meaningful patent transfer: jump\n",
    "    if pa.find('assignment-record/conveyance-text').text != 'ASSIGNMENT OF ASSIGNORS INTEREST (SEE DOCUMENT FOR DETAILS).':\n",
    "        return\n",
    "\n",
    "    patent_ids = []\n",
    "    for patent_property in pa.findall('patent-properties/patent-property'):  \n",
    "        for documentid in patent_property.findall('document-id'):\n",
    "            doc_number = documentid.find('doc-number').text\n",
    "            if len(doc_number) == 7:\n",
    "                patent_ids.append(doc_number)\n",
    "    #no patent id: jump\n",
    "    if len(patent_ids) == 0:\n",
    "        return\n",
    "    totaldata = pd.DataFrame()\n",
    "    totaldata['patent_ids'] = patent_ids\n",
    "    totaldata['last_update_date'] = pa.find('assignment-record/last-update-date/date').text\n",
    "    totaldata['reel-no'] = pa.find('assignment-record/reel-no').text\n",
    "    totaldata['frame-no'] = pa.find('assignment-record/frame-no').text\n",
    "\n",
    "    #Only one assignor\n",
    "    #No address for assignor in the record\n",
    "    totaldata['assignor'] = pa.find('patent-assignors/patent-assignor/name').text\n",
    "\n",
    "    #multiple assignees: by default 3            \n",
    "    assignee_count = 0\n",
    "    for assignee in pa.findall('patent-assignees/patent-assignee'):\n",
    "        for address in assignee:\n",
    "            totaldata[address.tag + '_' + str(assignee_count)] = address.text\n",
    "        assignee_count+=1      \n",
    "    totaldata['total_number_assignees'] = assignee_count\n",
    "    return totaldata"
   ]
  },
  {
   "cell_type": "code",
   "execution_count": 7,
   "metadata": {},
   "outputs": [
    {
     "name": "stderr",
     "output_type": "stream",
     "text": [
      "[Parallel(n_jobs=-1)]: Using backend ThreadingBackend with 4 concurrent workers.\n",
      "[Parallel(n_jobs=-1)]: Done  42 tasks      | elapsed:    0.1s\n",
      "[Parallel(n_jobs=-1)]: Done 192 tasks      | elapsed:    0.1s\n",
      "[Parallel(n_jobs=-1)]: Done 442 tasks      | elapsed:    0.1s\n",
      "[Parallel(n_jobs=-1)]: Done 792 tasks      | elapsed:    0.1s\n",
      "[Parallel(n_jobs=-1)]: Done 1242 tasks      | elapsed:    0.2s\n",
      "[Parallel(n_jobs=-1)]: Done 1792 tasks      | elapsed:    0.2s\n",
      "[Parallel(n_jobs=-1)]: Done 2442 tasks      | elapsed:    0.3s\n",
      "[Parallel(n_jobs=-1)]: Done 3192 tasks      | elapsed:    0.4s\n",
      "[Parallel(n_jobs=-1)]: Done 4042 tasks      | elapsed:    0.4s\n",
      "[Parallel(n_jobs=-1)]: Done 4992 tasks      | elapsed:    0.5s\n",
      "[Parallel(n_jobs=-1)]: Done 6042 tasks      | elapsed:    0.6s\n",
      "[Parallel(n_jobs=-1)]: Done 7192 tasks      | elapsed:    0.7s\n",
      "[Parallel(n_jobs=-1)]: Done 8442 tasks      | elapsed:    0.8s\n",
      "[Parallel(n_jobs=-1)]: Done 9792 tasks      | elapsed:    1.0s\n",
      "[Parallel(n_jobs=-1)]: Done 11242 tasks      | elapsed:    1.1s\n",
      "[Parallel(n_jobs=-1)]: Done 12792 tasks      | elapsed:    1.2s\n",
      "[Parallel(n_jobs=-1)]: Done 14442 tasks      | elapsed:    1.4s\n",
      "[Parallel(n_jobs=-1)]: Done 16192 tasks      | elapsed:    1.6s\n",
      "[Parallel(n_jobs=-1)]: Done 18042 tasks      | elapsed:    1.7s\n",
      "[Parallel(n_jobs=-1)]: Done 19992 tasks      | elapsed:    1.9s\n",
      "[Parallel(n_jobs=-1)]: Done 22042 tasks      | elapsed:    2.0s\n",
      "[Parallel(n_jobs=-1)]: Done 24192 tasks      | elapsed:    2.2s\n",
      "[Parallel(n_jobs=-1)]: Done 26442 tasks      | elapsed:    2.5s\n",
      "[Parallel(n_jobs=-1)]: Done 28792 tasks      | elapsed:    2.7s\n",
      "[Parallel(n_jobs=-1)]: Done 31242 tasks      | elapsed:    2.9s\n",
      "[Parallel(n_jobs=-1)]: Done 33792 tasks      | elapsed:    3.1s\n",
      "[Parallel(n_jobs=-1)]: Done 36442 tasks      | elapsed:    3.4s\n",
      "[Parallel(n_jobs=-1)]: Done 39192 tasks      | elapsed:    3.5s\n",
      "[Parallel(n_jobs=-1)]: Done 42042 tasks      | elapsed:    3.9s\n",
      "[Parallel(n_jobs=-1)]: Done 44992 tasks      | elapsed:    4.2s\n",
      "[Parallel(n_jobs=-1)]: Done 48042 tasks      | elapsed:    4.4s\n",
      "[Parallel(n_jobs=-1)]: Done 51192 tasks      | elapsed:    4.7s\n",
      "[Parallel(n_jobs=-1)]: Done 54442 tasks      | elapsed:    4.9s\n",
      "[Parallel(n_jobs=-1)]: Done 57792 tasks      | elapsed:    5.2s\n",
      "[Parallel(n_jobs=-1)]: Done 61242 tasks      | elapsed:    5.5s\n",
      "[Parallel(n_jobs=-1)]: Done 64792 tasks      | elapsed:    5.8s\n",
      "[Parallel(n_jobs=-1)]: Done 68442 tasks      | elapsed:    6.3s\n",
      "[Parallel(n_jobs=-1)]: Done 72192 tasks      | elapsed:    6.6s\n",
      "[Parallel(n_jobs=-1)]: Done 76042 tasks      | elapsed:    7.0s\n",
      "[Parallel(n_jobs=-1)]: Done 79992 tasks      | elapsed:    7.6s\n",
      "[Parallel(n_jobs=-1)]: Done 84042 tasks      | elapsed:    7.9s\n",
      "[Parallel(n_jobs=-1)]: Done 88192 tasks      | elapsed:    8.3s\n",
      "[Parallel(n_jobs=-1)]: Done 92442 tasks      | elapsed:    8.6s\n",
      "[Parallel(n_jobs=-1)]: Done 96792 tasks      | elapsed:    9.4s\n",
      "[Parallel(n_jobs=-1)]: Done 101242 tasks      | elapsed:    9.8s\n",
      "[Parallel(n_jobs=-1)]: Done 105792 tasks      | elapsed:   10.2s\n",
      "[Parallel(n_jobs=-1)]: Done 110442 tasks      | elapsed:   10.7s\n",
      "[Parallel(n_jobs=-1)]: Done 115192 tasks      | elapsed:   11.3s\n",
      "[Parallel(n_jobs=-1)]: Done 120042 tasks      | elapsed:   11.8s\n",
      "[Parallel(n_jobs=-1)]: Done 124992 tasks      | elapsed:   12.4s\n",
      "[Parallel(n_jobs=-1)]: Done 130042 tasks      | elapsed:   12.9s\n",
      "[Parallel(n_jobs=-1)]: Done 135192 tasks      | elapsed:   13.4s\n",
      "[Parallel(n_jobs=-1)]: Done 140442 tasks      | elapsed:   14.1s\n",
      "[Parallel(n_jobs=-1)]: Done 145792 tasks      | elapsed:   14.7s\n",
      "[Parallel(n_jobs=-1)]: Done 151242 tasks      | elapsed:   15.3s\n",
      "[Parallel(n_jobs=-1)]: Done 156792 tasks      | elapsed:   15.8s\n",
      "[Parallel(n_jobs=-1)]: Done 162442 tasks      | elapsed:   16.3s\n",
      "[Parallel(n_jobs=-1)]: Done 168192 tasks      | elapsed:   16.8s\n",
      "[Parallel(n_jobs=-1)]: Done 174042 tasks      | elapsed:   17.3s\n",
      "[Parallel(n_jobs=-1)]: Done 179992 tasks      | elapsed:   17.9s\n",
      "[Parallel(n_jobs=-1)]: Done 186042 tasks      | elapsed:   18.5s\n",
      "[Parallel(n_jobs=-1)]: Done 192192 tasks      | elapsed:   19.4s\n",
      "[Parallel(n_jobs=-1)]: Done 198442 tasks      | elapsed:   20.0s\n",
      "[Parallel(n_jobs=-1)]: Done 204792 tasks      | elapsed:   20.5s\n",
      "[Parallel(n_jobs=-1)]: Done 211242 tasks      | elapsed:   21.1s\n",
      "[Parallel(n_jobs=-1)]: Done 217792 tasks      | elapsed:   21.6s\n",
      "[Parallel(n_jobs=-1)]: Done 224442 tasks      | elapsed:   22.2s\n",
      "[Parallel(n_jobs=-1)]: Done 231192 tasks      | elapsed:   22.9s\n",
      "[Parallel(n_jobs=-1)]: Done 238042 tasks      | elapsed:   23.5s\n",
      "[Parallel(n_jobs=-1)]: Done 244992 tasks      | elapsed:   24.2s\n",
      "[Parallel(n_jobs=-1)]: Done 252042 tasks      | elapsed:   25.1s\n",
      "[Parallel(n_jobs=-1)]: Done 259192 tasks      | elapsed:   25.9s\n",
      "[Parallel(n_jobs=-1)]: Done 266442 tasks      | elapsed:   26.5s\n",
      "[Parallel(n_jobs=-1)]: Done 273792 tasks      | elapsed:   27.1s\n",
      "[Parallel(n_jobs=-1)]: Done 281242 tasks      | elapsed:   27.8s\n",
      "[Parallel(n_jobs=-1)]: Done 288792 tasks      | elapsed:   28.7s\n",
      "[Parallel(n_jobs=-1)]: Done 296442 tasks      | elapsed:   29.6s\n",
      "[Parallel(n_jobs=-1)]: Done 304192 tasks      | elapsed:   30.7s\n",
      "[Parallel(n_jobs=-1)]: Done 312042 tasks      | elapsed:   31.6s\n",
      "[Parallel(n_jobs=-1)]: Done 319992 tasks      | elapsed:   32.8s\n",
      "[Parallel(n_jobs=-1)]: Done 328042 tasks      | elapsed:   34.2s\n",
      "[Parallel(n_jobs=-1)]: Done 336192 tasks      | elapsed:   35.4s\n",
      "[Parallel(n_jobs=-1)]: Done 344442 tasks      | elapsed:   36.4s\n",
      "[Parallel(n_jobs=-1)]: Done 352792 tasks      | elapsed:   37.3s\n",
      "[Parallel(n_jobs=-1)]: Done 361242 tasks      | elapsed:   38.1s\n",
      "[Parallel(n_jobs=-1)]: Done 369792 tasks      | elapsed:   38.8s\n",
      "[Parallel(n_jobs=-1)]: Done 378442 tasks      | elapsed:   39.7s\n",
      "[Parallel(n_jobs=-1)]: Done 387192 tasks      | elapsed:   40.8s\n",
      "[Parallel(n_jobs=-1)]: Done 396042 tasks      | elapsed:   42.1s\n",
      "[Parallel(n_jobs=-1)]: Done 404992 tasks      | elapsed:   43.4s\n",
      "[Parallel(n_jobs=-1)]: Done 414042 tasks      | elapsed:   45.0s\n",
      "[Parallel(n_jobs=-1)]: Done 423192 tasks      | elapsed:   46.6s\n",
      "[Parallel(n_jobs=-1)]: Done 432442 tasks      | elapsed:   47.6s\n",
      "[Parallel(n_jobs=-1)]: Done 441792 tasks      | elapsed:   48.4s\n",
      "[Parallel(n_jobs=-1)]: Done 451242 tasks      | elapsed:   49.2s\n",
      "[Parallel(n_jobs=-1)]: Done 460792 tasks      | elapsed:   50.6s\n",
      "[Parallel(n_jobs=-1)]: Done 470442 tasks      | elapsed:   52.8s\n",
      "[Parallel(n_jobs=-1)]: Done 480192 tasks      | elapsed:   54.4s\n",
      "[Parallel(n_jobs=-1)]: Done 490042 tasks      | elapsed:   56.2s\n",
      "[Parallel(n_jobs=-1)]: Done 499992 tasks      | elapsed:   57.5s\n",
      "[Parallel(n_jobs=-1)]: Done 500000 out of 500000 | elapsed:   57.5s finished\n"
     ]
    }
   ],
   "source": [
    "with Parallel(n_jobs=-1, verbose=1, prefer=\"threads\") as parallel:\n",
    "    results = parallel(delayed(parse_xml)(pa) for pa in pas)"
   ]
  },
  {
   "cell_type": "code",
   "execution_count": 8,
   "metadata": {},
   "outputs": [],
   "source": [
    "total = pd.concat(results, ignore_index = False)"
   ]
  },
  {
   "cell_type": "code",
   "execution_count": 9,
   "metadata": {},
   "outputs": [],
   "source": [
    "total.to_csv(\"ad20121231-01.csv\", index = False)"
   ]
  }
 ],
 "metadata": {
  "kernelspec": {
   "display_name": "Python 3",
   "language": "python",
   "name": "python3"
  },
  "language_info": {
   "codemirror_mode": {
    "name": "ipython",
    "version": 3
   },
   "file_extension": ".py",
   "mimetype": "text/x-python",
   "name": "python",
   "nbconvert_exporter": "python",
   "pygments_lexer": "ipython3",
   "version": "3.7.6"
  }
 },
 "nbformat": 4,
 "nbformat_minor": 2
}
